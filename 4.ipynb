{
 "cells": [
  {
   "cell_type": "code",
   "execution_count": 1,
   "id": "21c60253",
   "metadata": {},
   "outputs": [],
   "source": [
    "# !wget https://raw.githubusercontent.com/alexeygrigorev/datasets/master/AER_credit_card_data.csv"
   ]
  },
  {
   "cell_type": "markdown",
   "id": "8c25f1e4",
   "metadata": {},
   "source": [
    "#### Preparation\n",
    "\n",
    "    Create the target variable by mapping yes to 1 and no to 0.\n",
    "    Split the dataset into 3 parts: train/validation/test with 60%/20%/20% distribution. Use train_test_split function for that with random_state=1."
   ]
  },
  {
   "cell_type": "code",
   "execution_count": 2,
   "id": "a2e54b4f",
   "metadata": {},
   "outputs": [],
   "source": [
    "import numpy as np\n",
    "import pandas as pd\n",
    "from sklearn.metrics import roc_auc_score, roc_curve, precision_score, recall_score, f1_score\n",
    "from sklearn.model_selection import train_test_split, KFold\n",
    "from sklearn.feature_extraction import DictVectorizer\n",
    "from sklearn.linear_model import LogisticRegression\n",
    "import matplotlib.pyplot as plt\n",
    "import seaborn as sns\n",
    "\n",
    "\n",
    "seed = 1\n",
    "dv = DictVectorizer(sparse=False)\n",
    "kfold = KFold(n_splits=5, shuffle=True, random_state=1)\n",
    "%matplotlib inline"
   ]
  },
  {
   "cell_type": "code",
   "execution_count": 3,
   "id": "6fb99675",
   "metadata": {},
   "outputs": [
    {
     "data": {
      "text/html": [
       "<div>\n",
       "<style scoped>\n",
       "    .dataframe tbody tr th:only-of-type {\n",
       "        vertical-align: middle;\n",
       "    }\n",
       "\n",
       "    .dataframe tbody tr th {\n",
       "        vertical-align: top;\n",
       "    }\n",
       "\n",
       "    .dataframe thead th {\n",
       "        text-align: right;\n",
       "    }\n",
       "</style>\n",
       "<table border=\"1\" class=\"dataframe\">\n",
       "  <thead>\n",
       "    <tr style=\"text-align: right;\">\n",
       "      <th></th>\n",
       "      <th>card</th>\n",
       "      <th>reports</th>\n",
       "      <th>age</th>\n",
       "      <th>income</th>\n",
       "      <th>share</th>\n",
       "      <th>expenditure</th>\n",
       "      <th>owner</th>\n",
       "      <th>selfemp</th>\n",
       "      <th>dependents</th>\n",
       "      <th>months</th>\n",
       "      <th>majorcards</th>\n",
       "      <th>active</th>\n",
       "    </tr>\n",
       "  </thead>\n",
       "  <tbody>\n",
       "    <tr>\n",
       "      <th>0</th>\n",
       "      <td>yes</td>\n",
       "      <td>0</td>\n",
       "      <td>37.66667</td>\n",
       "      <td>4.52</td>\n",
       "      <td>0.033270</td>\n",
       "      <td>124.983300</td>\n",
       "      <td>yes</td>\n",
       "      <td>no</td>\n",
       "      <td>3</td>\n",
       "      <td>54</td>\n",
       "      <td>1</td>\n",
       "      <td>12</td>\n",
       "    </tr>\n",
       "    <tr>\n",
       "      <th>1</th>\n",
       "      <td>yes</td>\n",
       "      <td>0</td>\n",
       "      <td>33.25000</td>\n",
       "      <td>2.42</td>\n",
       "      <td>0.005217</td>\n",
       "      <td>9.854167</td>\n",
       "      <td>no</td>\n",
       "      <td>no</td>\n",
       "      <td>3</td>\n",
       "      <td>34</td>\n",
       "      <td>1</td>\n",
       "      <td>13</td>\n",
       "    </tr>\n",
       "  </tbody>\n",
       "</table>\n",
       "</div>"
      ],
      "text/plain": [
       "  card  reports       age  income     share  expenditure owner selfemp  \\\n",
       "0  yes        0  37.66667    4.52  0.033270   124.983300   yes      no   \n",
       "1  yes        0  33.25000    2.42  0.005217     9.854167    no      no   \n",
       "\n",
       "   dependents  months  majorcards  active  \n",
       "0           3      54           1      12  \n",
       "1           3      34           1      13  "
      ]
     },
     "execution_count": 3,
     "metadata": {},
     "output_type": "execute_result"
    }
   ],
   "source": [
    "df = pd.read_csv(\"AER_credit_card_data.csv\")\n",
    "df.head(2)"
   ]
  },
  {
   "cell_type": "code",
   "execution_count": 4,
   "id": "59d160b5",
   "metadata": {},
   "outputs": [
    {
     "name": "stdout",
     "output_type": "stream",
     "text": [
      "<class 'pandas.core.frame.DataFrame'>\n",
      "RangeIndex: 1319 entries, 0 to 1318\n",
      "Data columns (total 12 columns):\n",
      " #   Column       Non-Null Count  Dtype  \n",
      "---  ------       --------------  -----  \n",
      " 0   card         1319 non-null   object \n",
      " 1   reports      1319 non-null   int64  \n",
      " 2   age          1319 non-null   float64\n",
      " 3   income       1319 non-null   float64\n",
      " 4   share        1319 non-null   float64\n",
      " 5   expenditure  1319 non-null   float64\n",
      " 6   owner        1319 non-null   object \n",
      " 7   selfemp      1319 non-null   object \n",
      " 8   dependents   1319 non-null   int64  \n",
      " 9   months       1319 non-null   int64  \n",
      " 10  majorcards   1319 non-null   int64  \n",
      " 11  active       1319 non-null   int64  \n",
      "dtypes: float64(4), int64(5), object(3)\n",
      "memory usage: 123.8+ KB\n"
     ]
    }
   ],
   "source": [
    "df.info()"
   ]
  },
  {
   "cell_type": "code",
   "execution_count": 5,
   "id": "fc636457",
   "metadata": {},
   "outputs": [],
   "source": [
    "y = df.pop(\"card\")\n",
    "y = [1 if i==\"yes\" else 0 for i in y]"
   ]
  },
  {
   "cell_type": "code",
   "execution_count": 6,
   "id": "8f4e1341",
   "metadata": {},
   "outputs": [
    {
     "data": {
      "text/html": [
       "<div>\n",
       "<style scoped>\n",
       "    .dataframe tbody tr th:only-of-type {\n",
       "        vertical-align: middle;\n",
       "    }\n",
       "\n",
       "    .dataframe tbody tr th {\n",
       "        vertical-align: top;\n",
       "    }\n",
       "\n",
       "    .dataframe thead th {\n",
       "        text-align: right;\n",
       "    }\n",
       "</style>\n",
       "<table border=\"1\" class=\"dataframe\">\n",
       "  <thead>\n",
       "    <tr style=\"text-align: right;\">\n",
       "      <th></th>\n",
       "      <th>reports</th>\n",
       "      <th>age</th>\n",
       "      <th>income</th>\n",
       "      <th>share</th>\n",
       "      <th>expenditure</th>\n",
       "      <th>owner</th>\n",
       "      <th>selfemp</th>\n",
       "      <th>dependents</th>\n",
       "      <th>months</th>\n",
       "      <th>majorcards</th>\n",
       "      <th>active</th>\n",
       "    </tr>\n",
       "  </thead>\n",
       "  <tbody>\n",
       "    <tr>\n",
       "      <th>0</th>\n",
       "      <td>3</td>\n",
       "      <td>40.50000</td>\n",
       "      <td>4.0128</td>\n",
       "      <td>0.000299</td>\n",
       "      <td>0.0</td>\n",
       "      <td>no</td>\n",
       "      <td>no</td>\n",
       "      <td>1</td>\n",
       "      <td>12</td>\n",
       "      <td>1</td>\n",
       "      <td>17</td>\n",
       "    </tr>\n",
       "    <tr>\n",
       "      <th>1</th>\n",
       "      <td>1</td>\n",
       "      <td>32.33333</td>\n",
       "      <td>6.0000</td>\n",
       "      <td>0.000200</td>\n",
       "      <td>0.0</td>\n",
       "      <td>yes</td>\n",
       "      <td>no</td>\n",
       "      <td>4</td>\n",
       "      <td>18</td>\n",
       "      <td>1</td>\n",
       "      <td>4</td>\n",
       "    </tr>\n",
       "  </tbody>\n",
       "</table>\n",
       "</div>"
      ],
      "text/plain": [
       "   reports       age  income     share  expenditure owner selfemp  dependents  \\\n",
       "0        3  40.50000  4.0128  0.000299          0.0    no      no           1   \n",
       "1        1  32.33333  6.0000  0.000200          0.0   yes      no           4   \n",
       "\n",
       "   months  majorcards  active  \n",
       "0      12           1      17  \n",
       "1      18           1       4  "
      ]
     },
     "execution_count": 6,
     "metadata": {},
     "output_type": "execute_result"
    }
   ],
   "source": [
    "df_train, df_test, y_train, y_test = train_test_split(df, y, test_size=0.2, random_state=seed)\n",
    "df_train, df_val, y_train, y_val = train_test_split(df_train, y_train, test_size=0.25, random_state=seed)\n",
    "\n",
    "df_train.reset_index(drop=True, inplace=True)\n",
    "df_val.reset_index(drop=True, inplace=True)\n",
    "df_test.reset_index(drop=True, inplace=True)\n",
    "\n",
    "df_train.head(2)"
   ]
  },
  {
   "cell_type": "code",
   "execution_count": 7,
   "id": "9ac3bf10",
   "metadata": {},
   "outputs": [
    {
     "data": {
      "text/html": [
       "<style>#sk-container-id-1 {color: black;background-color: white;}#sk-container-id-1 pre{padding: 0;}#sk-container-id-1 div.sk-toggleable {background-color: white;}#sk-container-id-1 label.sk-toggleable__label {cursor: pointer;display: block;width: 100%;margin-bottom: 0;padding: 0.3em;box-sizing: border-box;text-align: center;}#sk-container-id-1 label.sk-toggleable__label-arrow:before {content: \"▸\";float: left;margin-right: 0.25em;color: #696969;}#sk-container-id-1 label.sk-toggleable__label-arrow:hover:before {color: black;}#sk-container-id-1 div.sk-estimator:hover label.sk-toggleable__label-arrow:before {color: black;}#sk-container-id-1 div.sk-toggleable__content {max-height: 0;max-width: 0;overflow: hidden;text-align: left;background-color: #f0f8ff;}#sk-container-id-1 div.sk-toggleable__content pre {margin: 0.2em;color: black;border-radius: 0.25em;background-color: #f0f8ff;}#sk-container-id-1 input.sk-toggleable__control:checked~div.sk-toggleable__content {max-height: 200px;max-width: 100%;overflow: auto;}#sk-container-id-1 input.sk-toggleable__control:checked~label.sk-toggleable__label-arrow:before {content: \"▾\";}#sk-container-id-1 div.sk-estimator input.sk-toggleable__control:checked~label.sk-toggleable__label {background-color: #d4ebff;}#sk-container-id-1 div.sk-label input.sk-toggleable__control:checked~label.sk-toggleable__label {background-color: #d4ebff;}#sk-container-id-1 input.sk-hidden--visually {border: 0;clip: rect(1px 1px 1px 1px);clip: rect(1px, 1px, 1px, 1px);height: 1px;margin: -1px;overflow: hidden;padding: 0;position: absolute;width: 1px;}#sk-container-id-1 div.sk-estimator {font-family: monospace;background-color: #f0f8ff;border: 1px dotted black;border-radius: 0.25em;box-sizing: border-box;margin-bottom: 0.5em;}#sk-container-id-1 div.sk-estimator:hover {background-color: #d4ebff;}#sk-container-id-1 div.sk-parallel-item::after {content: \"\";width: 100%;border-bottom: 1px solid gray;flex-grow: 1;}#sk-container-id-1 div.sk-label:hover label.sk-toggleable__label {background-color: #d4ebff;}#sk-container-id-1 div.sk-serial::before {content: \"\";position: absolute;border-left: 1px solid gray;box-sizing: border-box;top: 0;bottom: 0;left: 50%;z-index: 0;}#sk-container-id-1 div.sk-serial {display: flex;flex-direction: column;align-items: center;background-color: white;padding-right: 0.2em;padding-left: 0.2em;position: relative;}#sk-container-id-1 div.sk-item {position: relative;z-index: 1;}#sk-container-id-1 div.sk-parallel {display: flex;align-items: stretch;justify-content: center;background-color: white;position: relative;}#sk-container-id-1 div.sk-item::before, #sk-container-id-1 div.sk-parallel-item::before {content: \"\";position: absolute;border-left: 1px solid gray;box-sizing: border-box;top: 0;bottom: 0;left: 50%;z-index: -1;}#sk-container-id-1 div.sk-parallel-item {display: flex;flex-direction: column;z-index: 1;position: relative;background-color: white;}#sk-container-id-1 div.sk-parallel-item:first-child::after {align-self: flex-end;width: 50%;}#sk-container-id-1 div.sk-parallel-item:last-child::after {align-self: flex-start;width: 50%;}#sk-container-id-1 div.sk-parallel-item:only-child::after {width: 0;}#sk-container-id-1 div.sk-dashed-wrapped {border: 1px dashed gray;margin: 0 0.4em 0.5em 0.4em;box-sizing: border-box;padding-bottom: 0.4em;background-color: white;}#sk-container-id-1 div.sk-label label {font-family: monospace;font-weight: bold;display: inline-block;line-height: 1.2em;}#sk-container-id-1 div.sk-label-container {text-align: center;}#sk-container-id-1 div.sk-container {/* jupyter's `normalize.less` sets `[hidden] { display: none; }` but bootstrap.min.css set `[hidden] { display: none !important; }` so we also need the `!important` here to be able to override the default hidden behavior on the sphinx rendered scikit-learn.org. See: https://github.com/scikit-learn/scikit-learn/issues/21755 */display: inline-block !important;position: relative;}#sk-container-id-1 div.sk-text-repr-fallback {display: none;}</style><div id=\"sk-container-id-1\" class=\"sk-top-container\"><div class=\"sk-text-repr-fallback\"><pre>LogisticRegression(max_iter=1000, random_state=1, solver=&#x27;liblinear&#x27;)</pre><b>In a Jupyter environment, please rerun this cell to show the HTML representation or trust the notebook. <br />On GitHub, the HTML representation is unable to render, please try loading this page with nbviewer.org.</b></div><div class=\"sk-container\" hidden><div class=\"sk-item\"><div class=\"sk-estimator sk-toggleable\"><input class=\"sk-toggleable__control sk-hidden--visually\" id=\"sk-estimator-id-1\" type=\"checkbox\" checked><label for=\"sk-estimator-id-1\" class=\"sk-toggleable__label sk-toggleable__label-arrow\">LogisticRegression</label><div class=\"sk-toggleable__content\"><pre>LogisticRegression(max_iter=1000, random_state=1, solver=&#x27;liblinear&#x27;)</pre></div></div></div></div></div>"
      ],
      "text/plain": [
       "LogisticRegression(max_iter=1000, random_state=1, solver='liblinear')"
      ]
     },
     "execution_count": 7,
     "metadata": {},
     "output_type": "execute_result"
    }
   ],
   "source": [
    "X_train = dv.fit_transform(df_train.to_dict(orient=\"records\"))\n",
    "X_val = dv.transform(df_val.to_dict(orient=\"records\"))\n",
    "\n",
    "model = LogisticRegression(solver='liblinear', C=1.0, max_iter=1000, random_state=seed)\n",
    "model.fit(X_train, y_train)"
   ]
  },
  {
   "cell_type": "code",
   "execution_count": 8,
   "id": "a5615f8d",
   "metadata": {},
   "outputs": [
    {
     "data": {
      "text/plain": [
       "Index(['reports', 'age', 'income', 'share', 'expenditure', 'dependents',\n",
       "       'months', 'majorcards', 'active'],\n",
       "      dtype='object')"
      ]
     },
     "execution_count": 8,
     "metadata": {},
     "output_type": "execute_result"
    }
   ],
   "source": [
    "numerical_columns = df.columns[df.dtypes != object]\n",
    "numerical_columns"
   ]
  },
  {
   "cell_type": "markdown",
   "id": "4f6f8428",
   "metadata": {},
   "source": [
    "ROC AUC could also be used to evaluate feature importance of numerical variables.\n",
    "\n",
    "Let's do that\n",
    "\n",
    "    For each numerical variable, use it as score and compute AUC with the card variable.\n",
    "    Use the training dataset for that.\n",
    "\n",
    "If your AUC is < 0.5, invert this variable by putting \"-\" in front\n",
    "\n",
    "(e.g. -df_train['expenditure'])\n",
    "\n",
    "AUC can go below 0.5 if the variable is negatively correlated with the target variable. You can change the direction of the correlation by negating this variable - then negative correlation becomes positive."
   ]
  },
  {
   "cell_type": "code",
   "execution_count": 9,
   "id": "563cf418",
   "metadata": {},
   "outputs": [],
   "source": [
    "cols = []\n",
    "scores = []\n",
    "for col in df_train[numerical_columns]:\n",
    "    if col in [\"reports\", \"dependents\", \"active\", \"share\"]:\n",
    "        score = round(roc_auc_score(y_train, df_train[col]), 3)\n",
    "        if score < 0.5:\n",
    "            score = round(roc_auc_score(y_train, -df_train[col]), 3)\n",
    "        # print(col, \"\\t\", score)\n",
    "        cols.append(col)\n",
    "        scores.append(score)"
   ]
  },
  {
   "cell_type": "code",
   "execution_count": 10,
   "id": "7afa1b39",
   "metadata": {},
   "outputs": [
    {
     "name": "stdout",
     "output_type": "stream",
     "text": [
      "share\n"
     ]
    }
   ],
   "source": [
    "highest_val_feature, highest_val = max(zip(cols, scores), key=lambda x: x[1])\n",
    "# print(highest_val)\n",
    "print(highest_val_feature)"
   ]
  },
  {
   "cell_type": "markdown",
   "id": "f52de563",
   "metadata": {},
   "source": [
    "#### Q1. Which numerical variable (among the following 4) has the highest AUC?"
   ]
  },
  {
   "cell_type": "markdown",
   "id": "534f90fb",
   "metadata": {},
   "source": [
    "#### share"
   ]
  },
  {
   "cell_type": "markdown",
   "id": "1375fb21",
   "metadata": {},
   "source": [
    "Training the model\n",
    "\n",
    "Apply one-hot-encoding using DictVectorizer and train the logistic regression with these parameters:\n",
    "\n",
    "LogisticRegression(solver='liblinear', C=1.0, max_iter=1000)"
   ]
  },
  {
   "cell_type": "code",
   "execution_count": 11,
   "id": "f3926ae4",
   "metadata": {},
   "outputs": [
    {
     "name": "stdout",
     "output_type": "stream",
     "text": [
      "0.995\n"
     ]
    }
   ],
   "source": [
    "y_val_pred = model.predict_proba(X_val)[:, 1]\n",
    "score = roc_auc_score(y_val, y_val_pred)\n",
    "print(round(score, 3))"
   ]
  },
  {
   "cell_type": "markdown",
   "id": "f90c9fb0",
   "metadata": {},
   "source": [
    "#### Q2. What's the AUC of this model on the validation dataset? (round to 3 digits)"
   ]
  },
  {
   "cell_type": "markdown",
   "id": "6fa4ef96",
   "metadata": {},
   "source": [
    "#### 0.995"
   ]
  },
  {
   "cell_type": "markdown",
   "id": "05e3c49d",
   "metadata": {},
   "source": [
    "Now let's compute precision and recall for our model.\n",
    "\n",
    "    Evaluate the model on all thresholds from 0.0 to 1.0 with step 0.01\n",
    "    For each threshold, compute precision and recall\n",
    "    Plot them"
   ]
  },
  {
   "cell_type": "code",
   "execution_count": 12,
   "id": "d674f630",
   "metadata": {},
   "outputs": [],
   "source": [
    "precisions = []\n",
    "recalls = []\n",
    "f1s = []\n",
    "thresholds = np.arange(0.0, 1.0, 0.01)\n",
    "\n",
    "for threshold in thresholds:\n",
    "    y_val_pred = (model.predict_proba(X_val)[:, 1]>threshold)\n",
    "    # print(round(score, 3))\n",
    "    precision = precision_score(y_val, y_val_pred>threshold)\n",
    "    recall = recall_score(y_val, y_val_pred>threshold)\n",
    "    f1 = f1_score(y_val, y_val_pred)\n",
    "    \n",
    "    # print(precision, recall)\n",
    "    precisions.append(precision)\n",
    "    recalls.append(recall)\n",
    "    f1s.append(f1)"
   ]
  },
  {
   "cell_type": "code",
   "execution_count": 13,
   "id": "e521f995",
   "metadata": {},
   "outputs": [],
   "source": [
    "df_res = pd.DataFrame({\n",
    "    \"Threshold\": thresholds,\n",
    "    \"Precision\": precisions,\n",
    "    \"Recall\": recalls,\n",
    "    \"F1\": f1s\n",
    "})"
   ]
  },
  {
   "cell_type": "code",
   "execution_count": 14,
   "id": "a4076271",
   "metadata": {},
   "outputs": [],
   "source": [
    "# actual_positive = (y_valid == 1)\n",
    "# actual_negative = (y_valid == 0)\n",
    "# pred_positive = (y_valid_pred == 1)\n",
    "# pred_negative = (y_valid_pred == 0)\n",
    "\n",
    "# tp = (pred_positive & actual_positive).sum()\n",
    "# tn = (pred_negative & actual_negative).sum()\n",
    "\n",
    "# fp = (pred_positive & actual_negative).sum()\n",
    "# fn = (pred_negative & actual_positive).sum()\n",
    "\n",
    "# precision = tp / (tp + fp)\n",
    "# recall = tp / (tp + fn)\n",
    "# print(precision, recall)"
   ]
  },
  {
   "cell_type": "code",
   "execution_count": 15,
   "id": "6a3769c7",
   "metadata": {},
   "outputs": [],
   "source": [
    "# plt.plot(df_res.Threshold, df_res.Precision, label='Precision')\n",
    "# plt.plot(df_res.Threshold, df_res.Recall, label='Recall')\n",
    "# plt.legend()"
   ]
  },
  {
   "cell_type": "code",
   "execution_count": 16,
   "id": "75c660cf",
   "metadata": {},
   "outputs": [],
   "source": [
    "# ax = sns.lineplot(x=df_res.Threshold, y=df_res.Precision, color='r', legend=False)\n",
    "# sns.lineplot(x=df_res.Threshold, y=df_res.Recall, color='b', ax=ax.twinx(), legend=False)\n",
    "# ax.figure.legend(['Precision', 'Recall'])"
   ]
  },
  {
   "cell_type": "code",
   "execution_count": 17,
   "id": "772cad6a",
   "metadata": {},
   "outputs": [
    {
     "data": {
      "text/plain": [
       "<AxesSubplot:xlabel='Threshold'>"
      ]
     },
     "execution_count": 17,
     "metadata": {},
     "output_type": "execute_result"
    },
    {
     "data": {
      "image/png": "[encoded data removed]",
      "text/plain": [
       "<Figure size 640x480 with 1 Axes>"
      ]
     },
     "metadata": {},
     "output_type": "display_data"
    }
   ],
   "source": [
    "df_res.plot(x=\"Threshold\", y=[\"Precision\", \"Recall\"])"
   ]
  },
  {
   "cell_type": "code",
   "execution_count": 18,
   "id": "d27ce34f",
   "metadata": {},
   "outputs": [
    {
     "data": {
      "text/html": [
       "<div>\n",
       "<style scoped>\n",
       "    .dataframe tbody tr th:only-of-type {\n",
       "        vertical-align: middle;\n",
       "    }\n",
       "\n",
       "    .dataframe tbody tr th {\n",
       "        vertical-align: top;\n",
       "    }\n",
       "\n",
       "    .dataframe thead th {\n",
       "        text-align: right;\n",
       "    }\n",
       "</style>\n",
       "<table border=\"1\" class=\"dataframe\">\n",
       "  <thead>\n",
       "    <tr style=\"text-align: right;\">\n",
       "      <th></th>\n",
       "      <th>Threshold</th>\n",
       "      <th>Precision</th>\n",
       "      <th>Recall</th>\n",
       "    </tr>\n",
       "  </thead>\n",
       "  <tbody>\n",
       "    <tr>\n",
       "      <th>24</th>\n",
       "      <td>0.24</td>\n",
       "      <td>0.976303</td>\n",
       "      <td>0.976303</td>\n",
       "    </tr>\n",
       "    <tr>\n",
       "      <th>25</th>\n",
       "      <td>0.25</td>\n",
       "      <td>0.976303</td>\n",
       "      <td>0.976303</td>\n",
       "    </tr>\n",
       "    <tr>\n",
       "      <th>26</th>\n",
       "      <td>0.26</td>\n",
       "      <td>0.976303</td>\n",
       "      <td>0.976303</td>\n",
       "    </tr>\n",
       "    <tr>\n",
       "      <th>27</th>\n",
       "      <td>0.27</td>\n",
       "      <td>0.976303</td>\n",
       "      <td>0.976303</td>\n",
       "    </tr>\n",
       "    <tr>\n",
       "      <th>28</th>\n",
       "      <td>0.28</td>\n",
       "      <td>0.976303</td>\n",
       "      <td>0.976303</td>\n",
       "    </tr>\n",
       "    <tr>\n",
       "      <th>29</th>\n",
       "      <td>0.29</td>\n",
       "      <td>0.976303</td>\n",
       "      <td>0.976303</td>\n",
       "    </tr>\n",
       "  </tbody>\n",
       "</table>\n",
       "</div>"
      ],
      "text/plain": [
       "    Threshold  Precision    Recall\n",
       "24       0.24   0.976303  0.976303\n",
       "25       0.25   0.976303  0.976303\n",
       "26       0.26   0.976303  0.976303\n",
       "27       0.27   0.976303  0.976303\n",
       "28       0.28   0.976303  0.976303\n",
       "29       0.29   0.976303  0.976303"
      ]
     },
     "execution_count": 18,
     "metadata": {},
     "output_type": "execute_result"
    }
   ],
   "source": [
    "df_res[df_res.Precision == df_res.Recall].loc[:, [\"Threshold\", \"Precision\", \"Recall\"]]"
   ]
  },
  {
   "cell_type": "markdown",
   "id": "97947156",
   "metadata": {},
   "source": [
    "#### Q3. At which threshold precision and recall curves intersect?"
   ]
  },
  {
   "cell_type": "markdown",
   "id": "b1a142a8",
   "metadata": {},
   "source": [
    "#### 0.3 (i.e. From 0.24 to 0.29)"
   ]
  },
  {
   "cell_type": "markdown",
   "id": "7a24dee0",
   "metadata": {},
   "source": [
    "Precision and recall are conflicting - when one grows, the other goes down. That's why they are often combined into the F1 score - a metrics that takes into account both\n",
    "\n",
    "This is the formula for computing F1:\n",
    "\n",
    "F1 = 2 * P * R / (P + R)\n",
    "\n",
    "Where P is precision and R is recall.\n",
    "\n",
    "Let's compute F1 for all thresholds from 0.0 to 1.0 with increment 0.01"
   ]
  },
  {
   "cell_type": "code",
   "execution_count": 19,
   "id": "5e28ccaf",
   "metadata": {},
   "outputs": [],
   "source": [
    "# F1s = []\n",
    "# for threshold, precision, recall in zip(thresholds, precisions, recalls):\n",
    "#     F1 = 2 * (precision * recall) / (precision + recall)\n",
    "#     F1s.append(F1)\n",
    "    \n",
    "# list(zip(thresholds, F1s))"
   ]
  },
  {
   "cell_type": "code",
   "execution_count": 20,
   "id": "2899ee4e",
   "metadata": {},
   "outputs": [
    {
     "data": {
      "text/html": [
       "<div>\n",
       "<style scoped>\n",
       "    .dataframe tbody tr th:only-of-type {\n",
       "        vertical-align: middle;\n",
       "    }\n",
       "\n",
       "    .dataframe tbody tr th {\n",
       "        vertical-align: top;\n",
       "    }\n",
       "\n",
       "    .dataframe thead th {\n",
       "        text-align: right;\n",
       "    }\n",
       "</style>\n",
       "<table border=\"1\" class=\"dataframe\">\n",
       "  <thead>\n",
       "    <tr style=\"text-align: right;\">\n",
       "      <th></th>\n",
       "      <th>Threshold</th>\n",
       "      <th>F1</th>\n",
       "    </tr>\n",
       "  </thead>\n",
       "  <tbody>\n",
       "    <tr>\n",
       "      <th>35</th>\n",
       "      <td>0.35</td>\n",
       "      <td>0.983213</td>\n",
       "    </tr>\n",
       "    <tr>\n",
       "      <th>36</th>\n",
       "      <td>0.36</td>\n",
       "      <td>0.983213</td>\n",
       "    </tr>\n",
       "    <tr>\n",
       "      <th>37</th>\n",
       "      <td>0.37</td>\n",
       "      <td>0.983213</td>\n",
       "    </tr>\n",
       "    <tr>\n",
       "      <th>38</th>\n",
       "      <td>0.38</td>\n",
       "      <td>0.983213</td>\n",
       "    </tr>\n",
       "    <tr>\n",
       "      <th>39</th>\n",
       "      <td>0.39</td>\n",
       "      <td>0.983213</td>\n",
       "    </tr>\n",
       "    <tr>\n",
       "      <th>40</th>\n",
       "      <td>0.40</td>\n",
       "      <td>0.983213</td>\n",
       "    </tr>\n",
       "    <tr>\n",
       "      <th>41</th>\n",
       "      <td>0.41</td>\n",
       "      <td>0.983213</td>\n",
       "    </tr>\n",
       "  </tbody>\n",
       "</table>\n",
       "</div>"
      ],
      "text/plain": [
       "    Threshold        F1\n",
       "35       0.35  0.983213\n",
       "36       0.36  0.983213\n",
       "37       0.37  0.983213\n",
       "38       0.38  0.983213\n",
       "39       0.39  0.983213\n",
       "40       0.40  0.983213\n",
       "41       0.41  0.983213"
      ]
     },
     "execution_count": 20,
     "metadata": {},
     "output_type": "execute_result"
    }
   ],
   "source": [
    "df_res[df_res.F1==df_res.F1.max()].loc[:, [\"Threshold\", \"F1\"]]"
   ]
  },
  {
   "cell_type": "markdown",
   "id": "7643ba68",
   "metadata": {},
   "source": [
    "#### Q4. At which threshold F1 is maximum?"
   ]
  },
  {
   "cell_type": "markdown",
   "id": "2d16ba8d",
   "metadata": {},
   "source": [
    "#### 0.4 (i.e. from 0.35 to 0.41)"
   ]
  },
  {
   "cell_type": "markdown",
   "id": "9afb38d3",
   "metadata": {},
   "source": [
    "Use the KFold class from Scikit-Learn to evaluate our model on 5 different folds:\n",
    "\n",
    "KFold(n_splits=5, shuffle=True, random_state=1)\n",
    "\n",
    "    Iterate over different folds of df_full_train\n",
    "    Split the data into train and validation\n",
    "    Train the model on train with these parameters: LogisticRegression(solver='liblinear', C=1.0, max_iter=1000)\n",
    "    Use AUC to evaluate the model on validation"
   ]
  },
  {
   "cell_type": "code",
   "execution_count": 21,
   "id": "ffdd29fe",
   "metadata": {
    "scrolled": true
   },
   "outputs": [],
   "source": [
    "def auc_score(X, y, c=1.0):\n",
    "    scores = []\n",
    "    y = pd.Series(y)\n",
    "    \n",
    "    for train_idx, val_idx in kfold.split(X=X, y=y):    \n",
    "        X_train, y_train = X.iloc[train_idx], y[train_idx]\n",
    "        X_val, y_val = X.iloc[val_idx], y[val_idx]\n",
    "\n",
    "        X_train = dv.fit_transform(X_train.to_dict(orient=\"records\"))\n",
    "        X_val = dv.transform(X_val.to_dict(orient=\"records\"))\n",
    "\n",
    "        model = LogisticRegression(solver='liblinear', C=c, max_iter=1000, random_state=seed)\n",
    "        model.fit(X_train, y_train)\n",
    "\n",
    "        y_val_pred = model.predict_proba(X_val)[:, 1]\n",
    "        score = roc_auc_score(y_val, y_val_pred)\n",
    "\n",
    "        # print(score)\n",
    "        scores.append(score)\n",
    "        \n",
    "    return scores"
   ]
  },
  {
   "cell_type": "code",
   "execution_count": 22,
   "id": "8c48ba2f",
   "metadata": {},
   "outputs": [
    {
     "name": "stdout",
     "output_type": "stream",
     "text": [
      "0.003108591415706826\n"
     ]
    }
   ],
   "source": [
    "scores = auc_score(df_train, y_train)\n",
    "\n",
    "print(np.std(scores))"
   ]
  },
  {
   "cell_type": "markdown",
   "id": "95345aa5",
   "metadata": {},
   "source": [
    "#### Q5. How large is standard devidation of the AUC scores across different folds?"
   ]
  },
  {
   "cell_type": "markdown",
   "id": "5d90f59b",
   "metadata": {},
   "source": [
    "#### 0.003"
   ]
  },
  {
   "cell_type": "markdown",
   "id": "168121bc",
   "metadata": {},
   "source": [
    "Now let's use 5-Fold cross-validation to find the best parameter C\n",
    "\n",
    "    Iterate over the following C values: [0.01, 0.1, 1, 10]\n",
    "    Initialize KFold with the same parameters as previously\n",
    "    Use these parametes for the model: LogisticRegression(solver='liblinear', C=C, max_iter=1000)\n",
    "    Compute the mean score as well as the std (round the mean and std to 3 decimal digits)\n"
   ]
  },
  {
   "cell_type": "code",
   "execution_count": 23,
   "id": "942f81a5",
   "metadata": {},
   "outputs": [
    {
     "name": "stdout",
     "output_type": "stream",
     "text": [
      "C : 0.01\n",
      "0.992 0.006\n",
      "C : 0.1\n",
      "0.995 0.004\n",
      "C : 1\n",
      "0.996 0.003\n",
      "C : 10\n",
      "0.996 0.004\n"
     ]
    }
   ],
   "source": [
    "mean_scores = []\n",
    "Cs = [0.01, 0.1, 1, 10]\n",
    "for c in Cs:\n",
    "    scores = auc_score(df_train, y_train, c=c)\n",
    "    mean_score = round(np.mean(scores), 3)\n",
    "    std_score = round(np.std(scores), 3)\n",
    "    \n",
    "    mean_scores.append(mean_score)\n",
    "    \n",
    "    print(\"C :\", c)\n",
    "    print(mean_score, std_score)"
   ]
  },
  {
   "cell_type": "code",
   "execution_count": 24,
   "id": "85ff9560",
   "metadata": {},
   "outputs": [
    {
     "data": {
      "text/plain": [
       "1"
      ]
     },
     "execution_count": 24,
     "metadata": {},
     "output_type": "execute_result"
    }
   ],
   "source": [
    "max_mean_score = max(mean_scores)\n",
    "\n",
    "best_mean_cs = []\n",
    "for mean_score, c in zip(mean_scores, Cs):\n",
    "    if mean_score == max_mean_score:\n",
    "        best_mean_cs.append(c)\n",
    "\n",
    "min(best_mean_cs)\n",
    "# print(max(zip(mean_scores, Cs)))"
   ]
  },
  {
   "cell_type": "markdown",
   "id": "3649b607",
   "metadata": {},
   "source": [
    "#### Q6. Which C leads to the best mean score?\n",
    "If you have ties, select the score with the lowest std. If you still have ties, select the smallest C"
   ]
  },
  {
   "cell_type": "markdown",
   "id": "cc1e1eb5",
   "metadata": {},
   "source": [
    "#### 1"
   ]
  },
  {
   "cell_type": "code",
   "execution_count": null,
   "id": "6996c520",
   "metadata": {},
   "outputs": [],
   "source": []
  }
 ],
 "metadata": {
  "kernelspec": {
   "display_name": "Python 3 (ipykernel)",
   "language": "python",
   "name": "python3"
  },
  "language_info": {
   "codemirror_mode": {
    "name": "ipython",
    "version": 3
   },
   "file_extension": ".py",
   "mimetype": "text/x-python",
   "name": "python",
   "nbconvert_exporter": "python",
   "pygments_lexer": "ipython3",
   "version": "3.9.13"
  }
 },
 "nbformat": 4,
 "nbformat_minor": 5
}
