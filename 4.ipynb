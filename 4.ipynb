{
 "cells": [
  {
   "cell_type": "code",
   "execution_count": 1,
   "id": "52daf32e-3ac6-4a1a-8be0-bf00a6a1f14b",
   "metadata": {},
   "outputs": [],
   "source": [
    "import pandas as pd\n",
    "import numpy as np\n",
    "from sklearn.model_selection import train_test_split\n",
    "from sklearn.metrics import roc_auc_score, precision_recall_curve, precision_score, recall_score, f1_score\n",
    "from sklearn.feature_extraction import DictVectorizer\n",
    "from sklearn.linear_model import LogisticRegression\n",
    "import matplotlib.pyplot as plt\n",
    "from sklearn.model_selection import KFold\n",
    "\n",
    "%matplotlib inline"
   ]
  },
  {
   "cell_type": "code",
   "execution_count": 2,
   "id": "5794687c-2cab-40b9-82eb-6d95f94de215",
   "metadata": {
    "scrolled": true
   },
   "outputs": [
    {
     "name": "stdout",
     "output_type": "stream",
     "text": [
      "--2024-10-21 21:03:14--  https://archive.ics.uci.edu/static/public/222/bank+marketing.zip\n",
      "Loaded CA certificate '/etc/ssl/certs/ca-certificates.crt'\n",
      "Resolving archive.ics.uci.edu (archive.ics.uci.edu)... 128.195.10.252\n",
      "Connecting to archive.ics.uci.edu (archive.ics.uci.edu)|128.195.10.252|:443... connected.\n",
      "HTTP request sent, awaiting response... 200 OK\n",
      "Length: unspecified\n",
      "Saving to: ‘bank+marketing.zip.2’\n",
      "\n",
      "bank+marketing.zip.     [       <=>          ] 999.85K   589KB/s    in 1.7s    \n",
      "\n",
      "2024-10-21 21:03:17 (589 KB/s) - ‘bank+marketing.zip.2’ saved [1023843]\n",
      "\n",
      "Archive:  bank+marketing.zip\n",
      " extracting: bank.zip                \n",
      " extracting: bank-additional.zip     \n",
      "Archive:  bank.zip\n",
      "  inflating: bank-full.csv           \n",
      "  inflating: bank-names.txt          \n",
      "  inflating: bank.csv                \n"
     ]
    }
   ],
   "source": [
    "!wget https://archive.ics.uci.edu/static/public/222/bank+marketing.zip\n",
    "!unzip -o bank+marketing.zip \n",
    "!unzip -o bank.zip"
   ]
  },
  {
   "cell_type": "code",
   "execution_count": 3,
   "id": "94165a8f-0027-4fba-9530-fafade0c0b84",
   "metadata": {},
   "outputs": [
    {
     "data": {
      "text/html": [
       "<div>\n",
       "<style scoped>\n",
       "    .dataframe tbody tr th:only-of-type {\n",
       "        vertical-align: middle;\n",
       "    }\n",
       "\n",
       "    .dataframe tbody tr th {\n",
       "        vertical-align: top;\n",
       "    }\n",
       "\n",
       "    .dataframe thead th {\n",
       "        text-align: right;\n",
       "    }\n",
       "</style>\n",
       "<table border=\"1\" class=\"dataframe\">\n",
       "  <thead>\n",
       "    <tr style=\"text-align: right;\">\n",
       "      <th></th>\n",
       "      <th>age</th>\n",
       "      <th>job</th>\n",
       "      <th>marital</th>\n",
       "      <th>education</th>\n",
       "      <th>default</th>\n",
       "      <th>balance</th>\n",
       "      <th>housing</th>\n",
       "      <th>loan</th>\n",
       "      <th>contact</th>\n",
       "      <th>day</th>\n",
       "      <th>month</th>\n",
       "      <th>duration</th>\n",
       "      <th>campaign</th>\n",
       "      <th>pdays</th>\n",
       "      <th>previous</th>\n",
       "      <th>poutcome</th>\n",
       "      <th>y</th>\n",
       "    </tr>\n",
       "  </thead>\n",
       "  <tbody>\n",
       "    <tr>\n",
       "      <th>0</th>\n",
       "      <td>58</td>\n",
       "      <td>management</td>\n",
       "      <td>married</td>\n",
       "      <td>tertiary</td>\n",
       "      <td>no</td>\n",
       "      <td>2143</td>\n",
       "      <td>yes</td>\n",
       "      <td>no</td>\n",
       "      <td>unknown</td>\n",
       "      <td>5</td>\n",
       "      <td>may</td>\n",
       "      <td>261</td>\n",
       "      <td>1</td>\n",
       "      <td>-1</td>\n",
       "      <td>0</td>\n",
       "      <td>unknown</td>\n",
       "      <td>no</td>\n",
       "    </tr>\n",
       "    <tr>\n",
       "      <th>1</th>\n",
       "      <td>44</td>\n",
       "      <td>technician</td>\n",
       "      <td>single</td>\n",
       "      <td>secondary</td>\n",
       "      <td>no</td>\n",
       "      <td>29</td>\n",
       "      <td>yes</td>\n",
       "      <td>no</td>\n",
       "      <td>unknown</td>\n",
       "      <td>5</td>\n",
       "      <td>may</td>\n",
       "      <td>151</td>\n",
       "      <td>1</td>\n",
       "      <td>-1</td>\n",
       "      <td>0</td>\n",
       "      <td>unknown</td>\n",
       "      <td>no</td>\n",
       "    </tr>\n",
       "  </tbody>\n",
       "</table>\n",
       "</div>"
      ],
      "text/plain": [
       "   age         job  marital  education default  balance housing loan  contact  \\\n",
       "0   58  management  married   tertiary      no     2143     yes   no  unknown   \n",
       "1   44  technician   single  secondary      no       29     yes   no  unknown   \n",
       "\n",
       "   day month  duration  campaign  pdays  previous poutcome   y  \n",
       "0    5   may       261         1     -1         0  unknown  no  \n",
       "1    5   may       151         1     -1         0  unknown  no  "
      ]
     },
     "execution_count": 3,
     "metadata": {},
     "output_type": "execute_result"
    }
   ],
   "source": [
    "df = pd.read_csv('bank-full.csv', delimiter=';')\n",
    "df.head(2)"
   ]
  },
  {
   "cell_type": "code",
   "execution_count": 4,
   "id": "060d8e9f-c48b-48e7-98f0-8af14988b039",
   "metadata": {},
   "outputs": [
    {
     "data": {
      "text/html": [
       "<div>\n",
       "<style scoped>\n",
       "    .dataframe tbody tr th:only-of-type {\n",
       "        vertical-align: middle;\n",
       "    }\n",
       "\n",
       "    .dataframe tbody tr th {\n",
       "        vertical-align: top;\n",
       "    }\n",
       "\n",
       "    .dataframe thead th {\n",
       "        text-align: right;\n",
       "    }\n",
       "</style>\n",
       "<table border=\"1\" class=\"dataframe\">\n",
       "  <thead>\n",
       "    <tr style=\"text-align: right;\">\n",
       "      <th></th>\n",
       "      <th>age</th>\n",
       "      <th>job</th>\n",
       "      <th>marital</th>\n",
       "      <th>education</th>\n",
       "      <th>balance</th>\n",
       "      <th>housing</th>\n",
       "      <th>contact</th>\n",
       "      <th>day</th>\n",
       "      <th>month</th>\n",
       "      <th>duration</th>\n",
       "      <th>campaign</th>\n",
       "      <th>pdays</th>\n",
       "      <th>previous</th>\n",
       "      <th>poutcome</th>\n",
       "      <th>y</th>\n",
       "    </tr>\n",
       "  </thead>\n",
       "  <tbody>\n",
       "    <tr>\n",
       "      <th>0</th>\n",
       "      <td>58</td>\n",
       "      <td>management</td>\n",
       "      <td>married</td>\n",
       "      <td>tertiary</td>\n",
       "      <td>2143</td>\n",
       "      <td>yes</td>\n",
       "      <td>unknown</td>\n",
       "      <td>5</td>\n",
       "      <td>may</td>\n",
       "      <td>261</td>\n",
       "      <td>1</td>\n",
       "      <td>-1</td>\n",
       "      <td>0</td>\n",
       "      <td>unknown</td>\n",
       "      <td>no</td>\n",
       "    </tr>\n",
       "    <tr>\n",
       "      <th>1</th>\n",
       "      <td>44</td>\n",
       "      <td>technician</td>\n",
       "      <td>single</td>\n",
       "      <td>secondary</td>\n",
       "      <td>29</td>\n",
       "      <td>yes</td>\n",
       "      <td>unknown</td>\n",
       "      <td>5</td>\n",
       "      <td>may</td>\n",
       "      <td>151</td>\n",
       "      <td>1</td>\n",
       "      <td>-1</td>\n",
       "      <td>0</td>\n",
       "      <td>unknown</td>\n",
       "      <td>no</td>\n",
       "    </tr>\n",
       "  </tbody>\n",
       "</table>\n",
       "</div>"
      ],
      "text/plain": [
       "   age         job  marital  education  balance housing  contact  day month  \\\n",
       "0   58  management  married   tertiary     2143     yes  unknown    5   may   \n",
       "1   44  technician   single  secondary       29     yes  unknown    5   may   \n",
       "\n",
       "   duration  campaign  pdays  previous poutcome   y  \n",
       "0       261         1     -1         0  unknown  no  \n",
       "1       151         1     -1         0  unknown  no  "
      ]
     },
     "execution_count": 4,
     "metadata": {},
     "output_type": "execute_result"
    }
   ],
   "source": [
    "base = [\n",
    "    'age', 'job', 'marital', 'education', 'balance', 'housing', 'contact', 'day', 'month', 'duration', 'campaign', 'pdays', 'previous', 'poutcome', 'y'\n",
    "]\n",
    "numerical = [\n",
    "    'age', 'balance', 'day', 'duration', 'campaign', 'pdays', 'previous'\n",
    "]\n",
    "\n",
    "df = df[base]\n",
    "df.head(2)"
   ]
  },
  {
   "cell_type": "code",
   "execution_count": 5,
   "id": "54469407-83b5-49fa-b900-272b5e7be6a8",
   "metadata": {},
   "outputs": [],
   "source": [
    "df['y'] = (df['y'] == 'yes').astype(int)\n",
    "\n",
    "df_train_full, df_test = train_test_split(df, test_size=0.2, random_state=1)\n",
    "df_train, df_val = train_test_split(df_train_full, test_size=0.25, random_state=1)\n",
    "\n",
    "df_train = df_train.reset_index(drop=True)\n",
    "df_val = df_val.reset_index(drop=True)\n",
    "df_test = df_test.reset_index(drop=True)\n",
    "\n",
    "y_train = df_train.pop('y').values\n",
    "y_val = df_val.pop('y').values\n",
    "y_test = df_test.pop('y').values"
   ]
  },
  {
   "cell_type": "markdown",
   "id": "65f8aa01-76bd-4e83-b406-7f165aac43e2",
   "metadata": {},
   "source": [
    "1. Numerical variable with the highest AUC"
   ]
  },
  {
   "cell_type": "code",
   "execution_count": 6,
   "id": "af983a5a-c4f4-4672-8736-60f14fdb84a1",
   "metadata": {},
   "outputs": [
    {
     "name": "stdout",
     "output_type": "stream",
     "text": [
      "duration 0.815\n"
     ]
    }
   ],
   "source": [
    "# print(f'Feature \\tAUC')\n",
    "auc_scores = []\n",
    "\n",
    "for var in numerical:\n",
    "    auc = roc_auc_score(y_train, df_train[var])\n",
    "    # Invert if AUC < 0.5\n",
    "    if auc < 0.5:\n",
    "        auc = roc_auc_score(y_train, -df_train[var])\n",
    "    # print(f'{var:<7} \\t{auc:.3f}')\n",
    "    auc_scores.append(auc)\n",
    "\n",
    "res = list(zip(numerical, auc_scores))\n",
    "res.sort(key=lambda x:x[1], reverse=True)\n",
    "\n",
    "print(res[0][0], round(res[0][1], 3))"
   ]
  },
  {
   "cell_type": "markdown",
   "id": "407abeaa-17da-488a-86bc-f2fae9d0c20e",
   "metadata": {},
   "source": [
    "2. AUC of the model on the validation dataset"
   ]
  },
  {
   "cell_type": "code",
   "execution_count": 7,
   "id": "143429da-4a6c-46f8-8612-89baac99b0ee",
   "metadata": {
    "scrolled": true
   },
   "outputs": [
    {
     "name": "stdout",
     "output_type": "stream",
     "text": [
      "0.9\n"
     ]
    }
   ],
   "source": [
    "dv = DictVectorizer(sparse=False)\n",
    "\n",
    "train_dict = df_train.to_dict(orient='records')\n",
    "X_train = dv.fit_transform(train_dict)\n",
    "\n",
    "val_dict = df_val.to_dict(orient='records')\n",
    "X_val = dv.transform(val_dict)\n",
    "\n",
    "model = LogisticRegression(solver='liblinear', C=1.0, max_iter=1000)\n",
    "model.fit(X_train, y_train)\n",
    "\n",
    "# y_val_pred = model.predict(X_val)\n",
    "y_val_pred = model.predict_proba(X_val)[:, 1]\n",
    "auc_score = roc_auc_score(y_val, y_val_pred)\n",
    "\n",
    "print(round(auc_score, 3))"
   ]
  },
  {
   "cell_type": "markdown",
   "id": "30bb9cea-c405-4b19-aa4b-610e7ed86a68",
   "metadata": {},
   "source": [
    "3. At which threshold precision and recall curves intersect?"
   ]
  },
  {
   "cell_type": "code",
   "execution_count": 8,
   "id": "95c35ba0-0996-4aa0-80b4-3403b510b62f",
   "metadata": {},
   "outputs": [
    {
     "data": {
      "image/png": "[encoded data removed]",
      "text/plain": [
       "<Figure size 640x480 with 1 Axes>"
      ]
     },
     "metadata": {},
     "output_type": "display_data"
    }
   ],
   "source": [
    "thresholds = np.arange(0, 1, 0.01)\n",
    "precisions, recalls = np.array([]), np.array([])\n",
    "\n",
    "# print(f'Threshold\\tPrecision\\tRecall')\n",
    "\n",
    "for threshold in thresholds:\n",
    "    predicted_positive = (y_val_pred >= threshold)\n",
    "    predicted_negative = (y_val_pred < threshold)\n",
    "    actual_positive = (y_val == 1)\n",
    "    actual_negative = (y_val == 0)\n",
    "\n",
    "    tp = (actual_positive & predicted_positive).sum()\n",
    "    fp = (predicted_positive & actual_negative).sum()\n",
    "    fn = (predicted_negative & actual_positive).sum()\n",
    "    \n",
    "    precision = tp / (tp + fp)\n",
    "    recall = tp / (tp + fn)\n",
    "\n",
    "    # predicted_positive = (y_val_pred >= threshold).astype(int)\n",
    "    # precision = precision_score(y_val, predicted_positive)\n",
    "    # recall = recall_score(y_val, predicted_positive)\n",
    "\n",
    "    # print(f'{round(threshold, 2)}\\t{round(precision, 3)}\\t{round(recall, 3)}')\n",
    "\n",
    "    precisions = np.append(precisions, precision)\n",
    "    recalls = np.append(recalls, recall)\n",
    "\n",
    "# thresholds = np.arange(0, 1, 0.01)\n",
    "# precisions, recalls, thresholds = precision_recall_curve(y_val, y_val_pred_proba)\n",
    "\n",
    "plt.plot(thresholds, precisions, label='Precision', color='blue')\n",
    "plt.plot(thresholds, recalls, label='Recall', color='green')\n",
    "plt.xlabel('Thresholds')\n",
    "plt.ylabel('Score')\n",
    "plt.title('Precision and Recall vs Thresholds')\n",
    "plt.legend()\n",
    "plt.show()"
   ]
  },
  {
   "cell_type": "code",
   "execution_count": 9,
   "id": "5e972d9e-0af9-4d00-aeca-7487f0a720b3",
   "metadata": {},
   "outputs": [
    {
     "name": "stdout",
     "output_type": "stream",
     "text": [
      "0.27\n"
     ]
    }
   ],
   "source": [
    "differences = np.abs(np.array(precisions) - np.array(recalls))\n",
    "threshold_at_intersection = thresholds[np.argmin(differences)]\n",
    "print(round(threshold_at_intersection, 3))"
   ]
  },
  {
   "cell_type": "markdown",
   "id": "9d6b08ae-8292-459c-9f4b-0ae824b1fcd4",
   "metadata": {},
   "source": [
    "4. At which threshold F1 is maximal?"
   ]
  },
  {
   "cell_type": "code",
   "execution_count": 10,
   "id": "3e4822b0-d896-469e-b3ca-e54ee11e6520",
   "metadata": {},
   "outputs": [
    {
     "name": "stdout",
     "output_type": "stream",
     "text": [
      "Threshold\tF1 Value\n",
      "0.22      \t0.574\n"
     ]
    }
   ],
   "source": [
    "print('Threshold\\tF1 Value')\n",
    "\n",
    "\"\"\"\n",
    "f1_results = []\n",
    "\n",
    "for threshold, precision, recall in zip(thresholds, precisions, recalls):\n",
    "    f1_result = (2 * precision * recall) / (precision + recall)\n",
    "    # predicted_positive = (y_val_pred >= threshold).astype(int)\n",
    "    # f1_result = f1_score(y_val, predicted_positive)\n",
    "    \n",
    "    f1_results.append(f1_result)\n",
    "\n",
    "res = list(zip(thresholds, f1_results))\n",
    "res.sort(key=lambda x:x[1], reverse=True)\n",
    "\n",
    "print(f'{round(res[0][0], 3):<10}\\t{round(res[0][1], 3)}')\n",
    "\"\"\"\n",
    "\n",
    "f1_results = np.where(precisions + recalls > 0, 2 * (precisions * recalls) / (precisions + recalls), 0)\n",
    "max_f1_index = np.argmax(f1_results)\n",
    "\n",
    "print(f'{round(thresholds[max_f1_index], 3):<10}\\t{round(f1_results[max_f1_index], 3)}')"
   ]
  },
  {
   "cell_type": "markdown",
   "id": "00c406d2-68ce-47cf-80aa-0992310d2c19",
   "metadata": {},
   "source": [
    "5. Standard deviation of the scores across different folds"
   ]
  },
  {
   "cell_type": "code",
   "execution_count": 11,
   "id": "ff1d0bed-9eab-42a4-ad0d-815f986ef910",
   "metadata": {},
   "outputs": [],
   "source": [
    "def train(df, y_train, C=1.0):\n",
    "    dicts = df.to_dict(orient='records')\n",
    "\n",
    "    dv = DictVectorizer(sparse=False)\n",
    "    X = dv.fit_transform(dicts)\n",
    "    \n",
    "    model = LogisticRegression(solver='liblinear', C=C, max_iter=1000)\n",
    "    model.fit(X, y_train)\n",
    "    return dv, model\n",
    "\n",
    "def predict(df, dv, model):\n",
    "    dicts = df.to_dict(orient='records')\n",
    "    X = dv.transform(dicts)\n",
    "    y_pred = model.predict_proba(X)[:, 1]\n",
    "    # y_pred = model.predict(X)\n",
    "    \n",
    "    return y_pred"
   ]
  },
  {
   "cell_type": "code",
   "execution_count": 12,
   "id": "f46be2f2-9693-4768-a1ef-025c32e3559d",
   "metadata": {},
   "outputs": [
    {
     "name": "stdout",
     "output_type": "stream",
     "text": [
      "0.0\n"
     ]
    }
   ],
   "source": [
    "kfold = KFold(n_splits=5, shuffle=True, random_state=1)\n",
    "auc_scores = []\n",
    "\n",
    "for train_idx, val_idx in kfold.split(df_train_full):\n",
    "    df_train = df_train_full.iloc[train_idx]\n",
    "    df_val = df_train_full.iloc[val_idx]\n",
    "\n",
    "    y_train = df_train['y'].values\n",
    "    y_val = df_val['y'].values\n",
    "\n",
    "    dv, model = train(df_train, y_train)\n",
    "    y_pred = predict(df_val, dv, model)\n",
    "    \n",
    "    auc = roc_auc_score(y_val, y_pred)\n",
    "    auc_scores.append(auc)\n",
    "\n",
    "print(round(np.std(auc_scores), 4))"
   ]
  },
  {
   "cell_type": "markdown",
   "id": "5870796a-e326-4246-b694-8c44bc274348",
   "metadata": {},
   "source": [
    "6. Which C leads to the best mean score?"
   ]
  },
  {
   "cell_type": "code",
   "execution_count": 13,
   "id": "a6ae37dc-8ff9-4827-8b82-4f892618d628",
   "metadata": {},
   "outputs": [
    {
     "name": "stdout",
     "output_type": "stream",
     "text": [
      "C\tAUC\n",
      "1e-06\t0.009\n",
      "0.001\t0.007\n",
      "1\t0.006\n"
     ]
    }
   ],
   "source": [
    "print('C\\tAUC')\n",
    "\n",
    "for C in [0.000001, 0.001, 1]:\n",
    "    auc_scores = []\n",
    "    kfold = KFold(n_splits=5, shuffle=True, random_state=1)\n",
    "\n",
    "    for train_idx, val_idx in kfold.split(df_train_full):\n",
    "        df_train = df_train_full.iloc[train_idx]\n",
    "        df_val = df_train_full.iloc[val_idx]\n",
    "    \n",
    "        y_train = df_train.pop('y').values\n",
    "        y_val = df_val.pop('y').values\n",
    "    \n",
    "        dv, model = train(df_train, y_train, C)\n",
    "        y_pred = predict(df_val, dv, model)\n",
    "        \n",
    "        auc = roc_auc_score(y_val, y_pred)\n",
    "        auc_scores.append(auc)\n",
    "\n",
    "    print(f'{C}\\t{round(np.std(auc_scores), 3)}')"
   ]
  }
 ],
 "metadata": {
  "kernelspec": {
   "display_name": "Python 3 (ipykernel)",
   "language": "python",
   "name": "python3"
  },
  "language_info": {
   "codemirror_mode": {
    "name": "ipython",
    "version": 3
   },
   "file_extension": ".py",
   "mimetype": "text/x-python",
   "name": "python",
   "nbconvert_exporter": "python",
   "pygments_lexer": "ipython3",
   "version": "3.11.9"
  }
 },
 "nbformat": 4,
 "nbformat_minor": 5
}
