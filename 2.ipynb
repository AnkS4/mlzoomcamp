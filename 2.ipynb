{
 "cells": [
  {
   "cell_type": "code",
   "execution_count": 1,
   "id": "4f399da3-e927-442f-af0e-b9547da9db71",
   "metadata": {},
   "outputs": [],
   "source": [
    "import numpy as np\n",
    "import pandas as pd\n",
    "import matplotlib.pyplot as plt\n",
    "import seaborn as sns\n",
    "\n",
    "%matplotlib inline"
   ]
  },
  {
   "cell_type": "code",
   "execution_count": 2,
   "id": "06789c1a-83da-4d92-8d4d-f60b3322d571",
   "metadata": {},
   "outputs": [],
   "source": [
    "data = 'https://raw.githubusercontent.com/alexeygrigorev/datasets/master/laptops.csv'"
   ]
  },
  {
   "cell_type": "code",
   "execution_count": 3,
   "id": "d31033a5-f552-4a9d-bdfe-209ccd3dcedf",
   "metadata": {},
   "outputs": [
    {
     "name": "stdout",
     "output_type": "stream",
     "text": [
      "--2024-10-10 00:39:21--  https://raw.githubusercontent.com/alexeygrigorev/datasets/master/laptops.csv\n",
      "Loaded CA certificate '/etc/ssl/certs/ca-certificates.crt'\n",
      "Resolving raw.githubusercontent.com (raw.githubusercontent.com)... 2606:50c0:8002::154, 2606:50c0:8001::154, 2606:50c0:8000::154, ...\n",
      "Connecting to raw.githubusercontent.com (raw.githubusercontent.com)|2606:50c0:8002::154|:443... connected.\n",
      "HTTP request sent, awaiting response... 200 OK\n",
      "Length: 298573 (292K) [text/plain]\n",
      "Saving to: ‘laptops.csv’\n",
      "\n",
      "laptops.csv         100%[===================>] 291.58K  --.-KB/s    in 0.07s   \n",
      "\n",
      "2024-10-10 00:39:21 (3.91 MB/s) - ‘laptops.csv’ saved [298573/298573]\n",
      "\n"
     ]
    }
   ],
   "source": [
    "!wget $data"
   ]
  },
  {
   "cell_type": "code",
   "execution_count": 4,
   "id": "3e608899-9290-4b29-8831-b8e95c9e0f06",
   "metadata": {},
   "outputs": [
    {
     "data": {
      "text/html": [
       "<div>\n",
       "<style scoped>\n",
       "    .dataframe tbody tr th:only-of-type {\n",
       "        vertical-align: middle;\n",
       "    }\n",
       "\n",
       "    .dataframe tbody tr th {\n",
       "        vertical-align: top;\n",
       "    }\n",
       "\n",
       "    .dataframe thead th {\n",
       "        text-align: right;\n",
       "    }\n",
       "</style>\n",
       "<table border=\"1\" class=\"dataframe\">\n",
       "  <thead>\n",
       "    <tr style=\"text-align: right;\">\n",
       "      <th></th>\n",
       "      <th>Laptop</th>\n",
       "      <th>Status</th>\n",
       "      <th>Brand</th>\n",
       "      <th>Model</th>\n",
       "      <th>CPU</th>\n",
       "      <th>RAM</th>\n",
       "      <th>Storage</th>\n",
       "      <th>Storage type</th>\n",
       "      <th>GPU</th>\n",
       "      <th>Screen</th>\n",
       "      <th>Touch</th>\n",
       "      <th>Final Price</th>\n",
       "    </tr>\n",
       "  </thead>\n",
       "  <tbody>\n",
       "    <tr>\n",
       "      <th>0</th>\n",
       "      <td>ASUS ExpertBook B1 B1502CBA-EJ0436X Intel Core...</td>\n",
       "      <td>New</td>\n",
       "      <td>Asus</td>\n",
       "      <td>ExpertBook</td>\n",
       "      <td>Intel Core i5</td>\n",
       "      <td>8</td>\n",
       "      <td>512</td>\n",
       "      <td>SSD</td>\n",
       "      <td>NaN</td>\n",
       "      <td>15.6</td>\n",
       "      <td>No</td>\n",
       "      <td>1009.0</td>\n",
       "    </tr>\n",
       "    <tr>\n",
       "      <th>1</th>\n",
       "      <td>Alurin Go Start Intel Celeron N4020/8GB/256GB ...</td>\n",
       "      <td>New</td>\n",
       "      <td>Alurin</td>\n",
       "      <td>Go</td>\n",
       "      <td>Intel Celeron</td>\n",
       "      <td>8</td>\n",
       "      <td>256</td>\n",
       "      <td>SSD</td>\n",
       "      <td>NaN</td>\n",
       "      <td>15.6</td>\n",
       "      <td>No</td>\n",
       "      <td>299.0</td>\n",
       "    </tr>\n",
       "  </tbody>\n",
       "</table>\n",
       "</div>"
      ],
      "text/plain": [
       "                                              Laptop Status   Brand  \\\n",
       "0  ASUS ExpertBook B1 B1502CBA-EJ0436X Intel Core...    New    Asus   \n",
       "1  Alurin Go Start Intel Celeron N4020/8GB/256GB ...    New  Alurin   \n",
       "\n",
       "        Model            CPU  RAM  Storage Storage type  GPU  Screen Touch  \\\n",
       "0  ExpertBook  Intel Core i5    8      512          SSD  NaN    15.6    No   \n",
       "1          Go  Intel Celeron    8      256          SSD  NaN    15.6    No   \n",
       "\n",
       "   Final Price  \n",
       "0       1009.0  \n",
       "1        299.0  "
      ]
     },
     "execution_count": 4,
     "metadata": {},
     "output_type": "execute_result"
    }
   ],
   "source": [
    "df = pd.read_csv('laptops.csv')\n",
    "df.head(2)"
   ]
  },
  {
   "cell_type": "code",
   "execution_count": 5,
   "id": "dabdddfa-bed8-4bbf-bacf-f038e858cbca",
   "metadata": {},
   "outputs": [],
   "source": [
    "df.columns = df.columns.str.lower().str.replace(' ', '_')"
   ]
  },
  {
   "cell_type": "markdown",
   "id": "03e171af-9f4f-4735-bda7-fe8c4b3f331d",
   "metadata": {},
   "source": [
    "EDA"
   ]
  },
  {
   "cell_type": "code",
   "execution_count": 6,
   "id": "a2073de5-872d-4c60-b7f0-15497c7adf80",
   "metadata": {},
   "outputs": [
    {
     "name": "stdout",
     "output_type": "stream",
     "text": [
      "laptop\n",
      "['ASUS ExpertBook B1 B1502CBA-EJ0436X Intel Core i5-1235U/8GB/512GB SSD/15.6\"'\n",
      " 'Alurin Go Start Intel Celeron N4020/8GB/256GB SSD/15.6\"'\n",
      " 'ASUS ExpertBook B1 B1502CBA-EJ0424X Intel Core i3-1215U/8GB/256GB SSD/15.6\"'\n",
      " 'MSI Katana GF66 12UC-082XES Intel Core i7-12700H/16GB/1TB SSD/RTX3050/15.6\"'\n",
      " 'HP 15S-FQ5085NS Intel Core i5-1235U/16GB/512GB SSD/15.6\"']\n",
      "2160\n",
      "\n",
      "status\n",
      "['New' 'Refurbished']\n",
      "2\n",
      "\n",
      "brand\n",
      "['Asus' 'Alurin' 'MSI' 'HP' 'Lenovo']\n",
      "27\n",
      "\n",
      "model\n",
      "['ExpertBook' 'Go' 'Katana' '15S' 'Crosshair']\n",
      "121\n",
      "\n",
      "cpu\n",
      "['Intel Core i5' 'Intel Celeron' 'Intel Core i3' 'Intel Core i7'\n",
      " 'AMD Ryzen 5']\n",
      "28\n",
      "\n",
      "ram\n",
      "[ 8 16 32 12  4]\n",
      "9\n",
      "\n",
      "storage\n",
      "[ 512  256 1000   64  128]\n",
      "12\n",
      "\n",
      "storage_type\n",
      "['SSD' 'eMMC' nan]\n",
      "2\n",
      "\n",
      "gpu\n",
      "[nan 'RTX 3050' 'RTX 4060' 'RTX 4050' 'RTX 3060']\n",
      "44\n",
      "\n",
      "screen\n",
      "[15.6 17.3 14.  16.1 13.3]\n",
      "29\n",
      "\n",
      "touch\n",
      "['No' 'Yes']\n",
      "2\n",
      "\n",
      "final_price\n",
      "[1009.    299.    789.   1199.    669.01]\n",
      "1440\n",
      "\n"
     ]
    }
   ],
   "source": [
    "for col in df.columns:\n",
    "    print(col)\n",
    "    print(df[col].unique()[:5])\n",
    "    print(df[col].nunique())\n",
    "    print()"
   ]
  },
  {
   "cell_type": "code",
   "execution_count": 7,
   "id": "4f89769f-a79a-446e-8974-3904cc989bc4",
   "metadata": {},
   "outputs": [
    {
     "data": {
      "image/png": "[encoded data removed]",
      "text/plain": [
       "<Figure size 640x480 with 1 Axes>"
      ]
     },
     "metadata": {},
     "output_type": "display_data"
    }
   ],
   "source": [
    "# df['final_price'].describe()\n",
    "\n",
    "sns.histplot(df.final_price)\n",
    "plt.show()"
   ]
  },
  {
   "cell_type": "markdown",
   "id": "923aaab1-ca46-4871-a64b-eb0fe8bed8e3",
   "metadata": {},
   "source": [
    "1. Column with missing values"
   ]
  },
  {
   "cell_type": "code",
   "execution_count": 8,
   "id": "7526b78d-87fe-4286-874f-d4c2d576aff9",
   "metadata": {},
   "outputs": [
    {
     "data": {
      "text/plain": [
       "['storage_type', 'gpu', 'screen']"
      ]
     },
     "execution_count": 8,
     "metadata": {},
     "output_type": "execute_result"
    }
   ],
   "source": [
    "df.columns[df.isna().any()].tolist()  # df.columns[df.count() != len(df.index)]"
   ]
  },
  {
   "cell_type": "markdown",
   "id": "8208c951-5ac4-418c-90c1-d7078e9a79ed",
   "metadata": {},
   "source": [
    "2. The median for variable 'ram'"
   ]
  },
  {
   "cell_type": "code",
   "execution_count": 9,
   "id": "bd26cab5-a622-4bc6-851c-6933ed50cb02",
   "metadata": {},
   "outputs": [
    {
     "data": {
      "text/plain": [
       "16.0"
      ]
     },
     "execution_count": 9,
     "metadata": {},
     "output_type": "execute_result"
    }
   ],
   "source": [
    "df['ram'].median()"
   ]
  },
  {
   "cell_type": "markdown",
   "id": "cd05f09a-b45e-4aac-852c-30a22bf4856b",
   "metadata": {},
   "source": [
    "3. Better RMSE option"
   ]
  },
  {
   "cell_type": "code",
   "execution_count": 10,
   "id": "29cc2a90-8220-4463-9fdc-f23b5d172807",
   "metadata": {},
   "outputs": [],
   "source": [
    "n = len(df.index)\n",
    "n_test = n_val =  int(0.2*n)\n",
    "n_train = n - n_val - n_test\n",
    "# print(n_train, n_val, n_test)\n",
    "assert n == n_train + n_val + n_test\n",
    "\n",
    "idx = np.arange(n)"
   ]
  },
  {
   "cell_type": "code",
   "execution_count": 11,
   "id": "44da52dd-0f4c-4a5e-a5fe-717c6648f797",
   "metadata": {},
   "outputs": [],
   "source": [
    "def shuffle_df(seed=42):\n",
    "\n",
    "    np.random.seed(seed)\n",
    "    np.random.shuffle(idx)\n",
    "    \n",
    "    df_train = df.iloc[idx[:n_train]]\n",
    "    df_val = df.iloc[idx[n_train:n_train+n_val]]\n",
    "    df_test = df.iloc[idx[n_train+n_val:]]\n",
    "    # print(len(df_train), len(df_test), len(df_val))\n",
    "    \n",
    "    df_train = df_train.reset_index(drop=True)\n",
    "    df_val = df_val.reset_index(drop=True)\n",
    "    df_test = df_test.reset_index(drop=True)\n",
    "    \n",
    "    # y_train = np.log1p(df_train['final_price'].values)\n",
    "    # y_val = np.log1p(df_val['final_price'].values)\n",
    "    # y_test = np.log1p(df_test['final_price'].values)\n",
    "    \n",
    "    y_train = df_train['final_price'].values\n",
    "    y_val = df_val['final_price'].values\n",
    "    y_test = df_test['final_price'].values\n",
    "    \n",
    "    del df_train['final_price']\n",
    "    del df_val['final_price']\n",
    "    del df_test['final_price']\n",
    "    \n",
    "    # print(len(y_train))\n",
    "    return df_train, df_val, df_test, y_train, y_val, y_test\n",
    "\n",
    "df_train, df_val, df_test, y_train, y_val, y_test = shuffle_df()"
   ]
  },
  {
   "cell_type": "code",
   "execution_count": 12,
   "id": "5e8501ec-eabe-4d71-bb45-355d3bc2e29d",
   "metadata": {},
   "outputs": [],
   "source": [
    "def linear_regression(X, y, r=0):\n",
    "    ones = np.ones(X.shape[0])\n",
    "    X = np.column_stack([ones, X])\n",
    "    XTX = X.T.dot(X)\n",
    "    XTX = XTX + r*np.eye(XTX.shape[0])\n",
    "    XTX_inv = np.linalg.inv(XTX)\n",
    "    w = XTX_inv.dot(X.T).dot(y)\n",
    "    \n",
    "    return w[0], w[1:]"
   ]
  },
  {
   "cell_type": "code",
   "execution_count": 13,
   "id": "2e8a9692-6b13-4c60-a3ca-7153b2ba7561",
   "metadata": {},
   "outputs": [
    {
     "data": {
      "text/plain": [
       "laptop           object\n",
       "status           object\n",
       "brand            object\n",
       "model            object\n",
       "cpu              object\n",
       "ram               int64\n",
       "storage           int64\n",
       "storage_type     object\n",
       "gpu              object\n",
       "screen          float64\n",
       "touch            object\n",
       "dtype: object"
      ]
     },
     "execution_count": 13,
     "metadata": {},
     "output_type": "execute_result"
    }
   ],
   "source": [
    "df_train.dtypes"
   ]
  },
  {
   "cell_type": "code",
   "execution_count": 14,
   "id": "fdcb5e7c-9bd8-44b5-a9be-bb13b3226f89",
   "metadata": {},
   "outputs": [],
   "source": [
    "# Select numerical features\n",
    "base = ['ram', 'storage', 'screen']"
   ]
  },
  {
   "cell_type": "code",
   "execution_count": 15,
   "id": "98dbe86d-c6f4-48c2-9c19-9f9d0d4be58a",
   "metadata": {},
   "outputs": [
    {
     "data": {
      "text/plain": [
       "ram        0\n",
       "storage    0\n",
       "screen     3\n",
       "dtype: int64"
      ]
     },
     "execution_count": 15,
     "metadata": {},
     "output_type": "execute_result"
    }
   ],
   "source": [
    "df_train[base].isna().sum()"
   ]
  },
  {
   "cell_type": "code",
   "execution_count": 16,
   "id": "15369b79-01f9-4863-b193-aaafa7f27987",
   "metadata": {},
   "outputs": [],
   "source": [
    "def rmse(y, y_pred):\n",
    "    e = y - y_pred\n",
    "    se = np.square(e)\n",
    "    mse = se.mean()\n",
    "    rmse = np.sqrt(mse)\n",
    "    return round(rmse, 2)"
   ]
  },
  {
   "cell_type": "markdown",
   "id": "096d93f9-ca87-4427-8377-174bdbb21c76",
   "metadata": {},
   "source": [
    "Filling NAs:\n",
    "\n",
    "**Method 1 - By 0**"
   ]
  },
  {
   "cell_type": "code",
   "execution_count": 17,
   "id": "c897ae93-2186-4c9b-8531-d3e41c3e3767",
   "metadata": {},
   "outputs": [],
   "source": [
    "def prepare_X(df):\n",
    "    df = df.copy()\n",
    "    df = df[base]\n",
    "    df = df.fillna(0)\n",
    "    return df.values"
   ]
  },
  {
   "cell_type": "code",
   "execution_count": 18,
   "id": "c18b7c16-889e-46de-966e-fae980b5e0d7",
   "metadata": {},
   "outputs": [
    {
     "name": "stdout",
     "output_type": "stream",
     "text": [
      "RMSE: 597.36\n"
     ]
    }
   ],
   "source": [
    "X_train_0 = prepare_X(df_train)\n",
    "w0_0, w_0 = linear_regression(X_train_0, y_train)\n",
    "# y_pred_0 = w0_0 + X_train_0.dot(w_0)\n",
    "\n",
    "X_val_0 = prepare_X(df_val)\n",
    "# y_val_pred_0 = np.expm1(w0_0 + X_val_0.dot(w_0))\n",
    "y_val_pred_0 = w0_0 + X_val_0.dot(w_0)\n",
    "\n",
    "print('RMSE:',rmse(y_val, y_val_pred_0))\n",
    "\n",
    "# sns.histplot(y_val_pred_0, color='red', alpha=0.5)\n",
    "# sns.histplot(y_train, color='blue', alpha=0.5)\n",
    "# plt.show()"
   ]
  },
  {
   "cell_type": "markdown",
   "id": "a1e705d1-ef23-41d1-a047-0dc561d4015c",
   "metadata": {},
   "source": [
    "**Method 2 - By average of individual column**"
   ]
  },
  {
   "cell_type": "code",
   "execution_count": 19,
   "id": "11dc4c0c-ae45-43cb-82ce-5a3ccf7e41d2",
   "metadata": {},
   "outputs": [],
   "source": [
    "def prepare_X_avg(df, column, avg=None):\n",
    "    df = df.copy()\n",
    "    df = df[base]\n",
    "    if avg is None:\n",
    "        avg = df[column].mean()\n",
    "    \n",
    "    df.loc[:, column] = df[column].fillna(avg)\n",
    "    return df.values, avg"
   ]
  },
  {
   "cell_type": "code",
   "execution_count": 20,
   "id": "2a1e84c7-b161-4d0e-9f7b-ac745bc4194e",
   "metadata": {},
   "outputs": [
    {
     "name": "stdout",
     "output_type": "stream",
     "text": [
      "RMSE: 600.27\n"
     ]
    }
   ],
   "source": [
    "X_train_avg, train_screen_avg = prepare_X_avg(df_train, 'screen')\n",
    "w0_avg, w_avg = linear_regression(X_train_avg, y_train)\n",
    "# y_pred_avg = w0_avg + X_train_avg.dot(w_avg)\n",
    "\n",
    "X_val_avg, _ = prepare_X_avg(df_val, 'screen', train_screen_avg)\n",
    "# y_val_pred_avg = np.expm1(w0_avg + X_val_avg.dot(w_avg))\n",
    "y_val_pred_avg = w0_avg + X_val_avg.dot(w_avg)\n",
    "\n",
    "print('RMSE:',rmse(y_val, y_val_pred_avg))\n",
    "\n",
    "# sns.histplot(y_val_pred_avg, color='red', alpha=0.5)\n",
    "# sns.histplot(y_train, color='blue', alpha=0.5)\n",
    "# plt.show()"
   ]
  },
  {
   "cell_type": "markdown",
   "id": "ccdee470-39c9-4ea4-9587-207a5eb126e2",
   "metadata": {},
   "source": [
    "4. Which r for the best RMSE"
   ]
  },
  {
   "cell_type": "code",
   "execution_count": 21,
   "id": "7c54e55e-55f4-48e5-855d-ec4a373a8706",
   "metadata": {},
   "outputs": [
    {
     "name": "stdout",
     "output_type": "stream",
     "text": [
      "r: 0\tError: 597.36\n",
      "r: 0.01\tError: 597.36\n",
      "r: 0.1\tError: 597.35\n",
      "r: 1\tError: 597.21\n",
      "r: 5\tError: 597.01\n",
      "r: 10\tError: 597.06\n",
      "r: 100\tError: 597.9\n"
     ]
    }
   ],
   "source": [
    "for r in [0, 0.01, 0.1, 1, 5, 10, 100]:\n",
    "    w0, w = linear_regression(X_train_0, y_train, r)\n",
    "\n",
    "    # y_pred = np.expm1(w0 + X_val_0.dot(w))\n",
    "    y_pred = w0 + X_val_0.dot(w)\n",
    "    print(f'r: {r}\\tError: {rmse(y_val, y_pred)}')"
   ]
  },
  {
   "cell_type": "markdown",
   "id": "a0971a4c-ebb3-4098-8a15-aa919a13981d",
   "metadata": {},
   "source": [
    "5. Value of std"
   ]
  },
  {
   "cell_type": "code",
   "execution_count": 22,
   "id": "cac3e9a9-dd74-49c8-a775-1b6633518753",
   "metadata": {},
   "outputs": [
    {
     "name": "stdout",
     "output_type": "stream",
     "text": [
      "RMSEs: [650.09, 610.85, 554.12, 584.52, 582.52, 623.52, 608.45, 563.1, 574.91, 591.61]\n",
      "Standard deviation of the RMSEs: 27.651\n"
     ]
    }
   ],
   "source": [
    "seeds = [0, 1, 2, 3, 4, 5, 6, 7, 8, 9]\n",
    "result = []\n",
    "\n",
    "for seed in seeds:\n",
    "    df_train, df_val, df_test, y_train, y_val, y_test = shuffle_df(seed)\n",
    "\n",
    "    X_train_0 = prepare_X(df_train)\n",
    "    w0_0, w_0 = linear_regression(X_train_0, y_train)\n",
    "    \n",
    "    X_val_0 = prepare_X(df_val)\n",
    "    y_val_pred_0 = w0_0 + X_val_0.dot(w_0)\n",
    "    result.append(rmse(y_val, y_val_pred_0))\n",
    "\n",
    "print('RMSEs:', result)\n",
    "print('Standard deviation of the RMSEs:',round(np.std(result), 3))"
   ]
  },
  {
   "cell_type": "markdown",
   "id": "093ea00b-fb3a-4491-bb67-e5cbf2837c0b",
   "metadata": {},
   "source": [
    "6. RMSE on test dataset"
   ]
  },
  {
   "cell_type": "code",
   "execution_count": 23,
   "id": "63b922bc-5ebb-41d5-9f87-afcfbfcb602b",
   "metadata": {},
   "outputs": [
    {
     "name": "stdout",
     "output_type": "stream",
     "text": [
      "RMSE: 638.3\n"
     ]
    }
   ],
   "source": [
    "df_train, df_val, df_test, y_train, y_val, y_test = shuffle_df(seed=9)\n",
    "df_train = pd.concat([df_train, df_val], ignore_index=True)\n",
    "y_train = np.concatenate([y_train, y_val])\n",
    "\n",
    "X_train_0 = prepare_X(df_train)\n",
    "w0_0, w_0 = linear_regression(X_train_0, y_train, r=0.001)\n",
    "    \n",
    "X_val_0 = prepare_X(df_val)\n",
    "y_val_pred_0 = w0_0 + X_val_0.dot(w_0)\n",
    "print('RMSE:',rmse(y_val, y_val_pred_0))"
   ]
  }
 ],
 "metadata": {
  "kernelspec": {
   "display_name": "Python 3 (ipykernel)",
   "language": "python",
   "name": "python3"
  },
  "language_info": {
   "codemirror_mode": {
    "name": "ipython",
    "version": 3
   },
   "file_extension": ".py",
   "mimetype": "text/x-python",
   "name": "python",
   "nbconvert_exporter": "python",
   "pygments_lexer": "ipython3",
   "version": "3.11.9"
  }
 },
 "nbformat": 4,
 "nbformat_minor": 5
}
