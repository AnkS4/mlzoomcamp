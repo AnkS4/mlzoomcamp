{
 "cells": [
  {
   "cell_type": "code",
   "execution_count": 1,
   "id": "1f7ca2ad",
   "metadata": {},
   "outputs": [],
   "source": [
    "import numpy as np\n",
    "import pandas as pd\n",
    "import pickle\n",
    "import requests"
   ]
  },
  {
   "cell_type": "code",
   "execution_count": 2,
   "id": "6eb221cb",
   "metadata": {},
   "outputs": [
    {
     "data": {
      "text/html": [
       "<div>\n",
       "<style scoped>\n",
       "    .dataframe tbody tr th:only-of-type {\n",
       "        vertical-align: middle;\n",
       "    }\n",
       "\n",
       "    .dataframe tbody tr th {\n",
       "        vertical-align: top;\n",
       "    }\n",
       "\n",
       "    .dataframe thead th {\n",
       "        text-align: right;\n",
       "    }\n",
       "</style>\n",
       "<table border=\"1\" class=\"dataframe\">\n",
       "  <thead>\n",
       "    <tr style=\"text-align: right;\">\n",
       "      <th></th>\n",
       "      <th>card</th>\n",
       "      <th>reports</th>\n",
       "      <th>age</th>\n",
       "      <th>income</th>\n",
       "      <th>share</th>\n",
       "      <th>expenditure</th>\n",
       "      <th>owner</th>\n",
       "      <th>selfemp</th>\n",
       "      <th>dependents</th>\n",
       "      <th>months</th>\n",
       "      <th>majorcards</th>\n",
       "      <th>active</th>\n",
       "    </tr>\n",
       "  </thead>\n",
       "  <tbody>\n",
       "    <tr>\n",
       "      <th>0</th>\n",
       "      <td>yes</td>\n",
       "      <td>0</td>\n",
       "      <td>37.66667</td>\n",
       "      <td>4.52</td>\n",
       "      <td>0.033270</td>\n",
       "      <td>124.983300</td>\n",
       "      <td>yes</td>\n",
       "      <td>no</td>\n",
       "      <td>3</td>\n",
       "      <td>54</td>\n",
       "      <td>1</td>\n",
       "      <td>12</td>\n",
       "    </tr>\n",
       "    <tr>\n",
       "      <th>1</th>\n",
       "      <td>yes</td>\n",
       "      <td>0</td>\n",
       "      <td>33.25000</td>\n",
       "      <td>2.42</td>\n",
       "      <td>0.005217</td>\n",
       "      <td>9.854167</td>\n",
       "      <td>no</td>\n",
       "      <td>no</td>\n",
       "      <td>3</td>\n",
       "      <td>34</td>\n",
       "      <td>1</td>\n",
       "      <td>13</td>\n",
       "    </tr>\n",
       "  </tbody>\n",
       "</table>\n",
       "</div>"
      ],
      "text/plain": [
       "  card  reports       age  income     share  expenditure owner selfemp  \\\n",
       "0  yes        0  37.66667    4.52  0.033270   124.983300   yes      no   \n",
       "1  yes        0  33.25000    2.42  0.005217     9.854167    no      no   \n",
       "\n",
       "   dependents  months  majorcards  active  \n",
       "0           3      54           1      12  \n",
       "1           3      34           1      13  "
      ]
     },
     "execution_count": 2,
     "metadata": {},
     "output_type": "execute_result"
    }
   ],
   "source": [
    "df = pd.read_csv(\"AER_credit_card_data.csv\")\n",
    "df.head(2)"
   ]
  },
  {
   "cell_type": "code",
   "execution_count": 3,
   "id": "d4968f5e",
   "metadata": {},
   "outputs": [
    {
     "name": "stdout",
     "output_type": "stream",
     "text": [
      "\u001b[1mpipenv\u001b[0m, version 2022.9.24\n",
      "\u001b[0m"
     ]
    }
   ],
   "source": [
    "# !pip install pipenv\n",
    "!pipenv --version"
   ]
  },
  {
   "cell_type": "markdown",
   "id": "c457d94e",
   "metadata": {},
   "source": [
    "####  Q1. What's the version of pipenv you installed?"
   ]
  },
  {
   "cell_type": "markdown",
   "id": "61da2dcd",
   "metadata": {},
   "source": [
    "#### 2022.9.24"
   ]
  },
  {
   "cell_type": "markdown",
   "id": "b2db20c3",
   "metadata": {},
   "source": [
    "Use Pipenv to install Scikit-Learn version 1.0.2"
   ]
  },
  {
   "cell_type": "code",
   "execution_count": 4,
   "id": "61319d24",
   "metadata": {},
   "outputs": [
    {
     "name": "stdout",
     "output_type": "stream",
     "text": [
      "\u001b[0;32m\"sha256:08ef968f6b72033c16c479c966bf37ccd49b06ea91b765e1cc27afefe723920b\"\u001b[0m\r\n"
     ]
    }
   ],
   "source": [
    "# !pipenv install scikit-learn==1.0.2\n",
    "\n",
    "!cat Pipfile.lock | jq '.default.\"scikit-learn\".hashes[0]'"
   ]
  },
  {
   "cell_type": "markdown",
   "id": "8506e408",
   "metadata": {},
   "source": [
    "#### Q2. What's the first hash for scikit-learn you get in Pipfile.lock?"
   ]
  },
  {
   "cell_type": "markdown",
   "id": "bffd6a11",
   "metadata": {},
   "source": [
    "#### sha256:08ef968f6b72033c16c479c966bf37ccd49b06ea91b765e1cc27afefe723920b"
   ]
  },
  {
   "cell_type": "markdown",
   "id": "a9522265",
   "metadata": {},
   "source": [
    "Models\n",
    "\n",
    "We've prepared a dictionary vectorizer and a model.\n",
    "\n",
    "They were trained (roughly) using this code:\n",
    "\n",
    "features = ['reports', 'share', 'expenditure', 'owner']\n",
    "dicts = df[features].to_dict(orient='records')\n",
    "\n",
    "dv = DictVectorizer(sparse=False)\n",
    "X = dv.fit_transform(dicts)\n",
    "\n",
    "model = LogisticRegression(solver='liblinear').fit(X, y)\n",
    "\n",
    "    Note: You don't need to train the model. This code is just for your reference.\n",
    "\n",
    "And then saved with Pickle. Download them:\n",
    "\n",
    "    DictVectorizer\n",
    "    LogisticRegression\n",
    "\n",
    "With wget"
   ]
  },
  {
   "cell_type": "code",
   "execution_count": 5,
   "id": "36c9505b",
   "metadata": {},
   "outputs": [],
   "source": [
    "# PREFIX=\"https://raw.githubusercontent.com/alexeygrigorev/mlbookcamp-code/master/course-zoomcamp/cohorts/2022/05-deployment/homework\"\n",
    "# !wget $PREFIX/model1.bin\n",
    "# !wget $PREFIX/dv.bin"
   ]
  },
  {
   "cell_type": "markdown",
   "id": "e9f116d8",
   "metadata": {},
   "source": [
    "Let's use these models!\n",
    "\n",
    "    Write a script for loading these models with pickle\n",
    "    Score this client:\n",
    "\n",
    "{\"reports\": 0, \"share\": 0.001694, \"expenditure\": 0.12, \"owner\": \"yes\"}"
   ]
  },
  {
   "cell_type": "code",
   "execution_count": 6,
   "id": "c10d0190",
   "metadata": {},
   "outputs": [],
   "source": [
    "with open('model1.bin', 'rb') as f_in:\n",
    "    model = pickle.load(f_in)\n",
    "    \n",
    "with open('dv.bin', 'rb') as f_in:\n",
    "    dv = pickle.load(f_in)"
   ]
  },
  {
   "cell_type": "code",
   "execution_count": 7,
   "id": "e9fc89ea",
   "metadata": {},
   "outputs": [
    {
     "name": "stdout",
     "output_type": "stream",
     "text": [
      "0.162\n"
     ]
    }
   ],
   "source": [
    "client1 = {\"reports\": 0, \"share\": 0.001694, \"expenditure\": 0.12, \"owner\": \"yes\"}\n",
    "\n",
    "print(round(model.predict_proba(dv.transform([client1]))[0][1], 3))"
   ]
  },
  {
   "cell_type": "markdown",
   "id": "6c308e7d",
   "metadata": {},
   "source": [
    "#### Q3. What's the probability that this client will get a credit card?"
   ]
  },
  {
   "cell_type": "markdown",
   "id": "b00d9bcc",
   "metadata": {},
   "source": [
    "#### 0.162"
   ]
  },
  {
   "cell_type": "markdown",
   "id": "fc177f1e",
   "metadata": {},
   "source": [
    "Now let's serve this model as a web service\n",
    "\n",
    "    Install Flask and gunicorn\n",
    "    Write Flask code for serving the model\n",
    "    Now score this client using requests:\n",
    "\n",
    "url = \"YOUR_URL\"\n",
    "client = {\"reports\": 0, \"share\": 0.245, \"expenditure\": 3.438, \"owner\": \"yes\"}\n",
    "requests.post(url, json=client).json()"
   ]
  },
  {
   "cell_type": "code",
   "execution_count": 8,
   "id": "e96e542c",
   "metadata": {},
   "outputs": [
    {
     "name": "stdout",
     "output_type": "stream",
     "text": [
      "0.928\n"
     ]
    }
   ],
   "source": [
    "url = 'http://localhost:5000/predict'\n",
    "client = {\"reports\": 0, \"share\": 0.245, \"expenditure\": 3.438, \"owner\": \"yes\"}\n",
    "\n",
    "response = requests.post(url, json=client).json()\n",
    "print(response['credit_acceptance_probability'])"
   ]
  },
  {
   "cell_type": "markdown",
   "id": "6ddd1cd9",
   "metadata": {},
   "source": [
    "#### Q4. What's the probability that this client will get a credit card?"
   ]
  },
  {
   "cell_type": "markdown",
   "id": "6d7cc3eb",
   "metadata": {},
   "source": [
    "#### 0.928"
   ]
  },
  {
   "cell_type": "markdown",
   "id": "1c71b410",
   "metadata": {},
   "source": [
    "Download the base image svizor/zoomcamp-model:3.9.12-slim. You can easily make it by using docker pull command."
   ]
  },
  {
   "cell_type": "code",
   "execution_count": 9,
   "id": "bb6f7d28",
   "metadata": {},
   "outputs": [],
   "source": [
    "# compressed size of layers (including multi-arch image(s), if any)\n",
    "# !docker manifest inspect svizor/zoomcamp-model:3.9.12-slim | grep 'size' | awk -F ':' '{sum+=$NF} ENDx {print sum}' | numfmt --to=iec\n",
    "\n",
    "# !docker inspect svizor/zoomcamp-model:3.9.12-slim | jq '.[].Size' | numfmt --to=iec"
   ]
  },
  {
   "cell_type": "code",
   "execution_count": 10,
   "id": "d821e681",
   "metadata": {},
   "outputs": [
    {
     "name": "stdout",
     "output_type": "stream",
     "text": [
      "\r\n",
      "125MB\r\n"
     ]
    }
   ],
   "source": [
    "# !docker pull svizor/zoomcamp-model:3.9.12-slim\n",
    "!docker images svizor/zoomcamp-model:3.9.12-slim | awk '{ print $7 }'"
   ]
  },
  {
   "cell_type": "markdown",
   "id": "96f913e4",
   "metadata": {},
   "source": [
    "#### Q5. So what's the size of this base image?"
   ]
  },
  {
   "cell_type": "markdown",
   "id": "9f4cc501",
   "metadata": {},
   "source": [
    "#### 125 MB"
   ]
  },
  {
   "cell_type": "markdown",
   "id": "37b13952",
   "metadata": {},
   "source": [
    "Now create your own Dockerfile based on the image we prepared.\n",
    "\n",
    "It should start like that:\n",
    "\n",
    "FROM svizor/zoomcamp-model:3.9.12-slim\n",
    "\n",
    "Now complete it:\n",
    "\n",
    "    Install all the dependencies from the Pipenv file\n",
    "    Copy your Flask script\n",
    "    Run it with Gunicorn\n",
    "\n",
    "After that, you can build your docker image."
   ]
  },
  {
   "cell_type": "markdown",
   "id": "9e1d28e4",
   "metadata": {},
   "source": [
    "Let's run your docker container!\n",
    "\n",
    "After running it, score this client once again:"
   ]
  },
  {
   "cell_type": "code",
   "execution_count": 11,
   "id": "69dc92e4",
   "metadata": {},
   "outputs": [
    {
     "name": "stdout",
     "output_type": "stream",
     "text": [
      "0.928\n"
     ]
    }
   ],
   "source": [
    "url = 'http://localhost:5000/predict'\n",
    "\n",
    "client = {\"reports\": 0, \"share\": 0.245, \"expenditure\": 3.438, \"owner\": \"yes\"}\n",
    "response = requests.post(url, json=client).json()\n",
    "\n",
    "print(response['credit_acceptance_probability'])"
   ]
  },
  {
   "cell_type": "markdown",
   "id": "83212e93",
   "metadata": {},
   "source": [
    "#### Q6. What's the probability that this client will get a credit card now?"
   ]
  },
  {
   "cell_type": "markdown",
   "id": "13aee05f",
   "metadata": {},
   "source": [
    "#### 0.928"
   ]
  },
  {
   "cell_type": "code",
   "execution_count": null,
   "id": "51cf9b2e",
   "metadata": {},
   "outputs": [],
   "source": []
  }
 ],
 "metadata": {
  "kernelspec": {
   "display_name": "Python 3 (ipykernel)",
   "language": "python",
   "name": "python3"
  },
  "language_info": {
   "codemirror_mode": {
    "name": "ipython",
    "version": 3
   },
   "file_extension": ".py",
   "mimetype": "text/x-python",
   "name": "python",
   "nbconvert_exporter": "python",
   "pygments_lexer": "ipython3",
   "version": "3.9.13"
  }
 },
 "nbformat": 4,
 "nbformat_minor": 5
}
