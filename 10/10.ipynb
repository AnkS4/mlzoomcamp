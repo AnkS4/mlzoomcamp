{
 "cells": [
  {
   "cell_type": "code",
   "execution_count": 1,
   "id": "40435c4c",
   "metadata": {},
   "outputs": [],
   "source": [
    "# !git clone https://github.com/alexeygrigorev/mlbookcamp-code.git\n",
    "\n",
    "# %cd mlbookcamp-code/course-zoomcamp/cohorts/2022/05-deployment/homework/\n",
    "# !docker build -t zoomcamp-model:v001 ."
   ]
  },
  {
   "cell_type": "code",
   "execution_count": 2,
   "id": "c973f4ac",
   "metadata": {},
   "outputs": [],
   "source": [
    "# Run in other jupyter session/external terminal\n",
    "# %cd mlbookcamp-code/course-zoomcamp/cohorts/2022/05-deployment/homework/\n",
    "# !docker run -it --rm -p 9696:9696 zoomcamp-model:v001"
   ]
  },
  {
   "cell_type": "markdown",
   "id": "e62843d8",
   "metadata": {},
   "source": [
    "#### Q1. What is probability of getting a credit card?"
   ]
  },
  {
   "cell_type": "markdown",
   "id": "738b4e96",
   "metadata": {},
   "source": [
    "%cd mlbookcamp-code/course-zoomcamp/cohorts/2022/05-deployment/homework/\n",
    "!python q6_test.py"
   ]
  },
  {
   "cell_type": "markdown",
   "id": "9406c6d0",
   "metadata": {},
   "source": [
    "#### 0.769"
   ]
  },
  {
   "cell_type": "markdown",
   "id": "d2f2de6f",
   "metadata": {},
   "source": [
    "Install kubectl and kind"
   ]
  },
  {
   "cell_type": "markdown",
   "id": "ff548ff1",
   "metadata": {},
   "source": [
    "#### Q2. What's the version of kind that you have?"
   ]
  },
  {
   "cell_type": "code",
   "execution_count": 3,
   "id": "3c4419c2",
   "metadata": {},
   "outputs": [
    {
     "name": "stdout",
     "output_type": "stream",
     "text": [
      "kind version 0.17.0\r\n"
     ]
    }
   ],
   "source": [
    "!kind --version"
   ]
  },
  {
   "cell_type": "markdown",
   "id": "b9082215",
   "metadata": {},
   "source": [
    "#### 0.17.0"
   ]
  },
  {
   "cell_type": "markdown",
   "id": "5545a3f0",
   "metadata": {},
   "source": [
    "#### Q3. What's the smallest deployable computing unit that we can create and manage in Kubernetes (kind in our case)?"
   ]
  },
  {
   "cell_type": "markdown",
   "id": "d49aad47",
   "metadata": {},
   "source": [
    "#### Pod"
   ]
  },
  {
   "cell_type": "markdown",
   "id": "64aacd1a",
   "metadata": {},
   "source": [
    "#### Q4. What's the Type of the service that is already running there?"
   ]
  },
  {
   "cell_type": "markdown",
   "id": "7334066b",
   "metadata": {},
   "source": [
    "#### ClusterIP"
   ]
  },
  {
   "cell_type": "markdown",
   "id": "48bb351e",
   "metadata": {},
   "source": [
    "To be able to use the docker image we previously created (zoomcamp-model:v001), we need to register it with kind.\n",
    "\n",
    "#### Q5. What's the command we need to run for that?"
   ]
  },
  {
   "cell_type": "markdown",
   "id": "b3fe29bb",
   "metadata": {},
   "source": [
    "#### kind load docker-image zoomcamp-model:v001"
   ]
  },
  {
   "cell_type": "markdown",
   "id": "97f3efbc",
   "metadata": {},
   "source": [
    "Create a deployment config (e.g. deployment.yaml)\n",
    "\n",
    "#### Q6. What is the value for <Port>?"
   ]
  },
  {
   "cell_type": "markdown",
   "id": "2b6aa3ef",
   "metadata": {},
   "source": [
    "#### 9696"
   ]
  },
  {
   "cell_type": "markdown",
   "id": "931f8b2e",
   "metadata": {},
   "source": [
    "Apply this deployment using the appropriate command and get a list of running Pods. You can see one running Pod."
   ]
  },
  {
   "cell_type": "markdown",
   "id": "e81b7cce",
   "metadata": {},
   "source": [
    "#### Q7. create a service for this deployment (service.yaml)"
   ]
  },
  {
   "cell_type": "markdown",
   "id": "86dbb64b",
   "metadata": {},
   "source": [
    "Fill it in. What do we need to write instead of <???>?"
   ]
  },
  {
   "cell_type": "markdown",
   "id": "43499c1c",
   "metadata": {},
   "source": [
    "#### credit-score"
   ]
  },
  {
   "cell_type": "markdown",
   "id": "69b47940",
   "metadata": {},
   "source": [
    "Apply this config file."
   ]
  },
  {
   "cell_type": "markdown",
   "id": "d62e96d9",
   "metadata": {},
   "source": [
    "#### Testing the service\n",
    "\n",
    "We can test our service locally by forwarding the port 9696 on our computer to the port 80 on the service:\n",
    "\n",
    "kubectl port-forward service/<Service name> 9696:80\n",
    "\n",
    "Run q6_test.py (from the homework 5) once again to verify that everything is working. You should get the same result as in Question 1.\n",
    "\n",
    "#### Autoscaling\n",
    "\n",
    "Now we're going to use a HorizontalPodAutoscaler (HPA for short) that automatically updates a workload resource (such as our deployment), with the aim of automatically scaling the workload to match demand.\n",
    "\n",
    "Use the following command to create the HPA:\n",
    "\n",
    "kubectl autoscale deployment credit-card --name credit-card-hpa --cpu-percent=20 --min=1 --max=3\n",
    "\n",
    "You can check the current status of the new HPA by running:\n",
    "\n",
    "kubectl get hpa\n",
    "\n",
    "The output should be similar to the next:\n",
    "\n",
    "NAME              REFERENCE                TARGETS   MINPODS   MAXPODS   REPLICAS   AGE\n",
    "credit-card-hpa   Deployment/credit-card   1%/20%    1         3         1          27s\n",
    "\n",
    "TARGET column shows the average CPU consumption across all the Pods controlled by the corresponding deployment. Current CPU consumption is about 0% as there are no clients sending requests to the server.\n",
    "\n",
    "    Note: In case the HPA instance doesn't run properly, try to install the latest Metrics Server release from the components.yaml manifest:\n",
    "\n",
    "    kubectl apply -f https://github.com/kubernetes-sigs/metrics-server/releases/latest/download/components.yaml\n",
    "\n",
    "#### Increase the load\n",
    "\n",
    "Let's see how the autoscaler reacts to increasing the load. To do this, we can slightly modify the existing q6_test.py script by putting the operator that sends the request to the credit-card service into a loop.\n",
    "\n",
    "while True:\n",
    "    sleep(0.1)\n",
    "    response = requests.post(url, json=client).json()\n",
    "    print(response)\n",
    "\n",
    "Now you can run this script."
   ]
  },
  {
   "cell_type": "markdown",
   "id": "0f97c06e",
   "metadata": {},
   "source": [
    "Run kubectl get hpa credit-card-hpa --watch command to monitor how the autoscaler performs. Within a minute or so, you should see the higher CPU load; and then - more replicas.\n",
    "#### Q8. What was the maximum amount of the replicas during this test?\n",
    "\n",
    "Note: It may take a few minutes to stabilize the number of replicas. Since the amount of load is not controlled in any way it may happen that the final number of replicas will differ from initial."
   ]
  },
  {
   "cell_type": "code",
   "execution_count": null,
   "id": "9e18990d",
   "metadata": {},
   "outputs": [],
   "source": []
  }
 ],
 "metadata": {
  "kernelspec": {
   "display_name": "Python 3 (ipykernel)",
   "language": "python",
   "name": "python3"
  },
  "language_info": {
   "codemirror_mode": {
    "name": "ipython",
    "version": 3
   },
   "file_extension": ".py",
   "mimetype": "text/x-python",
   "name": "python",
   "nbconvert_exporter": "python",
   "pygments_lexer": "ipython3",
   "version": "3.10.8"
  }
 },
 "nbformat": 4,
 "nbformat_minor": 5
}
