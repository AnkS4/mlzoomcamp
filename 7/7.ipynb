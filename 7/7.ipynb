{
 "cells": [
  {
   "cell_type": "code",
   "execution_count": 1,
   "id": "db61a652",
   "metadata": {},
   "outputs": [],
   "source": [
    "# !pip install bentoml\n",
    "import requests\n",
    "\n",
    "# !pip install pydantic\n",
    "# import bentoml\n",
    "# from bentoml.io import JSON\n",
    "# from pydantic import BaseModel"
   ]
  },
  {
   "cell_type": "markdown",
   "id": "9605e079",
   "metadata": {},
   "source": [
    "#### Q1 What's the version of BentoML you installed?"
   ]
  },
  {
   "cell_type": "code",
   "execution_count": 2,
   "id": "221977bd",
   "metadata": {},
   "outputs": [
    {
     "name": "stdout",
     "output_type": "stream",
     "text": [
      "bentoml, version 1.0.7\r\n"
     ]
    }
   ],
   "source": [
    "!bentoml --version"
   ]
  },
  {
   "cell_type": "markdown",
   "id": "75356fa5",
   "metadata": {},
   "source": [
    "#### 1.0.7"
   ]
  },
  {
   "cell_type": "markdown",
   "id": "1bc6f7d6",
   "metadata": {},
   "source": [
    "Run the notebook which contains the xgboost model from module 6 i.e previous module and save the xgboost model with BentoML."
   ]
  },
  {
   "cell_type": "markdown",
   "id": "670e2405",
   "metadata": {},
   "source": [
    "####  Q2. How big approximately is the saved BentoML model? Size can slightly vary depending on your local development environment. Choose the size closest to your model.\n",
    "\n",
    "    924kb\n",
    "    724kb\n",
    "    114kb\n",
    "    8kb"
   ]
  },
  {
   "cell_type": "code",
   "execution_count": 3,
   "id": "ede48855",
   "metadata": {},
   "outputs": [
    {
     "name": "stdout",
     "output_type": "stream",
     "text": [
      " credit_risk_model:ef2afcstv…  bentoml.xgboost  197.77 KiB  2022-10-24 20:48:36 \r\n"
     ]
    }
   ],
   "source": [
    "!bentoml models list | grep credit_risk_model"
   ]
  },
  {
   "cell_type": "markdown",
   "id": "f2130435",
   "metadata": {},
   "source": [
    "#### 197.77 KiB"
   ]
  },
  {
   "cell_type": "markdown",
   "id": "591339d1",
   "metadata": {},
   "source": [
    "Say you have the following data that you're sending to your service:\n",
    "\n",
    "{\n",
    "  \"name\": \"Tim\",\n",
    "  \"age\": 37,\n",
    "  \"country\": \"US\",\n",
    "  \"rating\": 3.14\n",
    "}"
   ]
  },
  {
   "cell_type": "markdown",
   "id": "a0073367",
   "metadata": {},
   "source": [
    "#### Q3. What would the pydantic class look like? You can name the class UserProfile."
   ]
  },
  {
   "cell_type": "markdown",
   "id": "1ad33924",
   "metadata": {},
   "source": [
    "#### class UserProfile(BaseModel):\n",
    "    name: str\n",
    "    age: int\n",
    "    country: str\n",
    "    rating: float"
   ]
  },
  {
   "cell_type": "markdown",
   "id": "5feb3d94",
   "metadata": {},
   "source": [
    "We've prepared a model for you that you can import:"
   ]
  },
  {
   "cell_type": "code",
   "execution_count": 4,
   "id": "ee19a525",
   "metadata": {},
   "outputs": [],
   "source": [
    "# !curl -O https://s3.us-west-2.amazonaws.com/bentoml.com/mlzoomcamp/coolmodel.bentomodel\n",
    "# !bentoml models import coolmodel.bentomodel"
   ]
  },
  {
   "cell_type": "code",
   "execution_count": 5,
   "id": "8c26bd33",
   "metadata": {},
   "outputs": [
    {
     "name": "stdout",
     "output_type": "stream",
     "text": [
      "    scikit-learn: 1.1.1                                                         \r\n"
     ]
    }
   ],
   "source": [
    "!bentoml models get mlzoomcamp_homework:qtzdz3slg6mwwdu5 | grep \"scikit-learn\""
   ]
  },
  {
   "cell_type": "markdown",
   "id": "d1e12573",
   "metadata": {},
   "source": [
    "#### Q4. What version of scikit-learn was this model trained with?"
   ]
  },
  {
   "cell_type": "markdown",
   "id": "3328384e",
   "metadata": {},
   "source": [
    "#### 1.1.1"
   ]
  },
  {
   "cell_type": "markdown",
   "id": "84d68b01",
   "metadata": {},
   "source": [
    "Create a bento out of this scikit-learn model. The output type for this endpoint should be NumpyNdarray()\n",
    "\n",
    "Send this array to the Bento:\n",
    "\n",
    "[[6.4,3.5,4.5,1.2]]\n",
    "\n",
    "You can use curl or the Swagger UI. "
   ]
  },
  {
   "cell_type": "markdown",
   "id": "146ccde5",
   "metadata": {},
   "source": [
    "#### Q5. What value does it return?"
   ]
  },
  {
   "cell_type": "code",
   "execution_count": 6,
   "id": "e69cdc6f",
   "metadata": {},
   "outputs": [],
   "source": [
    "# !curl -X POST \\\n",
    "#    -H \"content-type: application/json\" \\\n",
    "#    --data \"[[6.4,3.5,4.5,1.2]]\" \\\n",
    "#    http://localhost:3000/classify"
   ]
  },
  {
   "cell_type": "code",
   "execution_count": 7,
   "id": "072b8d64",
   "metadata": {},
   "outputs": [
    {
     "name": "stdout",
     "output_type": "stream",
     "text": [
      "{\"result\":1}\n"
     ]
    }
   ],
   "source": [
    "result = requests.post(\n",
    "   \"http://localhost:3000/classify\",\n",
    "   headers={\"content-type\": \"application/json\"},\n",
    "   data=\"[[6.4,3.5,4.5,1.2]]\",\n",
    ")\n",
    "\n",
    "print(result.text)"
   ]
  },
  {
   "cell_type": "markdown",
   "id": "ebb4ae4e",
   "metadata": {},
   "source": [
    "#### 1"
   ]
  },
  {
   "cell_type": "markdown",
   "id": "bce957e9",
   "metadata": {},
   "source": [
    "(Make sure your environment has Scikit-Learn installed)\n",
    "Ensure to serve your bento with --production for this question\n",
    "\n",
    "Install locust using:\n",
    "\n",
    "pip install locust\n",
    "\n",
    "Use the following locust file: locustfile.py\n",
    "\n",
    "Ensure that it is pointed at your bento's endpoint (In case you didn't name your endpoint \"classify\")\n",
    "\n",
    "Configure 100 users with ramp time of 10 users per second. Click \"Start Swarming\" and ensure that it is working.\n",
    "\n",
    "Now download a second model with this command:\n",
    "\n",
    "curl -O https://s3.us-west-2.amazonaws.com/bentoml.com/mlzoomcamp/coolmodel2.bentomodel\n",
    "\n",
    "Or you can download with this link as well: https://s3.us-west-2.amazonaws.com/bentoml.com/mlzoomcamp/coolmodel2.bentomodel\n",
    "\n",
    "Now import the model:\n",
    "\n",
    "bentoml models import coolmodel2.bentomodel\n",
    "\n",
    "Update your bento's runner tag and test with both models. Which model allows more traffic (more throughput) as you ramp up the traffic?"
   ]
  },
  {
   "cell_type": "code",
   "execution_count": 8,
   "id": "e74720e6",
   "metadata": {},
   "outputs": [],
   "source": [
    "# !pip install locust\n",
    "# !curl -O https://s3.us-west-2.amazonaws.com/bentoml.com/mlzoomcamp/coolmodel2.bentomodel\n",
    "# !bentoml models import coolmodel2.bentomodel"
   ]
  },
  {
   "cell_type": "markdown",
   "id": "d2c804d5",
   "metadata": {},
   "source": [
    "#### Q6. Which model has better performance at higher volumes?"
   ]
  },
  {
   "cell_type": "markdown",
   "id": "fb48518f",
   "metadata": {},
   "source": [
    "####     The second model"
   ]
  },
  {
   "cell_type": "markdown",
   "id": "f8f58412",
   "metadata": {},
   "source": [
    "Go to this Bento deployment of Stable Diffusion: http://54.176.205.174/ (or deploy it yourself)\n",
    "\n",
    "Use the txt2image endpoint and update the prompt to: \"A cartoon dragon with sunglasses\". Don't change the seed, it should be 0 by default"
   ]
  },
  {
   "cell_type": "markdown",
   "id": "05daf602",
   "metadata": {},
   "source": [
    "#### Q7. What is the resulting image?"
   ]
  },
  {
   "cell_type": "markdown",
   "id": "35550813",
   "metadata": {},
   "source": [
    "#### #3"
   ]
  },
  {
   "cell_type": "code",
   "execution_count": null,
   "id": "b3ad76bb",
   "metadata": {},
   "outputs": [],
   "source": []
  }
 ],
 "metadata": {
  "kernelspec": {
   "display_name": "Python 3 (ipykernel)",
   "language": "python",
   "name": "python3"
  },
  "language_info": {
   "codemirror_mode": {
    "name": "ipython",
    "version": 3
   },
   "file_extension": ".py",
   "mimetype": "text/x-python",
   "name": "python",
   "nbconvert_exporter": "python",
   "pygments_lexer": "ipython3",
   "version": "3.9.13"
  }
 },
 "nbformat": 4,
 "nbformat_minor": 5
}
